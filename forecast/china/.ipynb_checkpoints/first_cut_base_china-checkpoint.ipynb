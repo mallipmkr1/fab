{
 "cells": [
  {
   "cell_type": "markdown",
   "id": "399b422c-b857-456e-88ac-bcbbaea58090",
   "metadata": {
    "papermill": {
     "duration": 0.010841,
     "end_time": "2022-08-25T04:58:09.946417",
     "exception": false,
     "start_time": "2022-08-25T04:58:09.935576",
     "status": "completed"
    },
    "tags": []
   },
   "source": [
    "## Import Libraries"
   ]
  },
  {
   "cell_type": "code",
   "execution_count": null,
   "id": "58f1363e-4b1a-4b77-8799-01b284ceed3f",
   "metadata": {
    "papermill": {
     "duration": 1.92991,
     "end_time": "2022-08-25T04:58:11.884915",
     "exception": false,
     "start_time": "2022-08-25T04:58:09.955005",
     "status": "completed"
    },
    "tags": []
   },
   "outputs": [],
   "source": [
    "import pandas as pd\n",
    "import numpy as np\n",
    "import datetime as datetime\n",
    "\n",
    "import write_data_table\n",
    "from clickhouse_driver import Client\n",
    "\n",
    "#import autoviz\n",
    "#import sweetviz\n",
    "#import pandas_profiling\n",
    "import seaborn as sns\n",
    "from matplotlib import pyplot as plt\n",
    "import os\n",
    "import joblib\n",
    "\n",
    "from statsmodels.tsa.seasonal import seasonal_decompose\n",
    "from statsmodels.graphics.tsaplots import plot_acf, plot_pacf\n",
    "from pandas.plotting import register_matplotlib_converters\n",
    "from lightgbm import LGBMRegressor\n",
    "from sklearn.preprocessing import LabelEncoder\n",
    "from sklearn.ensemble import RandomForestRegressor\n",
    "from sklearn.preprocessing import LabelEncoder\n",
    "from matplotlib.ticker import PercentFormatter\n",
    "import pendulum\n",
    "import matplotlib.dates as mdates\n",
    "from matplotlib.dates import DateFormatter"
   ]
  },
  {
   "cell_type": "code",
   "execution_count": null,
   "id": "37f95099",
   "metadata": {
    "papermill": {
     "duration": 0.019555,
     "end_time": "2022-08-25T04:58:11.912277",
     "exception": false,
     "start_time": "2022-08-25T04:58:11.892722",
     "status": "completed"
    },
    "tags": [
     "injected-parameters"
    ]
   },
   "outputs": [],
   "source": [
    "# Parameters\n",
    "attr_path = \"/srv/stemly/data/7/index/3/attributes/attributes.csv\"\n",
    "index_path = \"/srv/stemly/data/7/index/3/index/index.csv\"\n",
    "committed_files = [\"/srv/stemly/data/7/index/3/timeseries/993/commit/ts.0/13.1661315396541.parquet\"]\n",
    "predict_ts_path = \"/srv/stemly/data/7/index/3/timeseries/1434/staged/model/16/ts.predict.latest.parquet\"\n",
    "test_ts_path = \"/srv/stemly/data/7/index/3/timeseries/1434/staged/model/16/ts.test.latest.parquet\"\n",
    "validate_ts_path = \"/srv/stemly/data/7/index/3/timeseries/1434/staged/model/16/ts.validate.latest.parquet\"\n",
    "model = \"custom\"\n",
    "model_file_id = \"32\"\n",
    "model_resolution = None\n",
    "reference_resolution = \"MS\"\n",
    "project_offset = 1\n",
    "project_periods = 18\n",
    "project_resolution = \"MS\"\n",
    "ts_train_start = \"2020-07-01 00:00:00\"\n",
    "ts_train_v_end = \"2022-05-01 00:00:00\"\n",
    "ts_train_t_end = \"2022-04-01 00:00:00\"\n",
    "ts_train_p_end = \"2022-06-01 00:00:00\"\n",
    "ts_test_start = \"2022-04-01 00:00:00\"\n",
    "ts_test_end = \"2022-05-01 00:00:00\"\n",
    "ts_test_duration = 1\n",
    "ts_validate_start = \"2022-05-01 00:00:00\"\n",
    "ts_validate_end = \"2022-06-01 00:00:00\"\n",
    "ts_validate_duration = 1\n",
    "ts_predict_start = \"2022-06-01 00:00:00\"\n",
    "ts_predict_end = \"2023-12-01 00:00:00\"\n",
    "ts_predict_duration = 18\n",
    "redis_url = \"redis://127.0.0.1:6300\"\n",
    "job_id = \"6bf40e7f-aced-40f7-86fe-f49f8d23b343\"\n",
    "job_user_id = \"3\"\n",
    "resource_id = \"16\"\n",
    "resource_version = 1661403479559\n",
    "resource_type = \"modelbase\"\n",
    "workspace_id = \"7\"\n",
    "job_name = \"custom\"\n",
    "job_triggered_at = \"2022-08-25 04:58:00\"\n",
    "job_triggered_by = \"Mallikarjuna Reddy Padigapati\"\n"
   ]
  },
  {
   "cell_type": "code",
   "execution_count": null,
   "id": "5216f673-bd65-4556-acaf-84f5b513dd60",
   "metadata": {
    "papermill": {
     "duration": 0.016793,
     "end_time": "2022-08-25T04:58:11.939073",
     "exception": false,
     "start_time": "2022-08-25T04:58:11.922280",
     "status": "completed"
    },
    "tags": []
   },
   "outputs": [],
   "source": [
    "workspace = 'w' + workspace_id\n",
    "verbose = True"
   ]
  },
  {
   "cell_type": "code",
   "execution_count": null,
   "id": "38926de0-8cc5-4c32-ad5e-198704741e1d",
   "metadata": {
    "papermill": {
     "duration": 0.027101,
     "end_time": "2022-08-25T04:58:11.974628",
     "exception": false,
     "start_time": "2022-08-25T04:58:11.947527",
     "status": "completed"
    },
    "tags": []
   },
   "outputs": [],
   "source": [
    "%matplotlib inline"
   ]
  },
  {
   "cell_type": "code",
   "execution_count": null,
   "id": "0698d102-d994-45ba-80b9-358211691733",
   "metadata": {
    "papermill": {
     "duration": 0.016008,
     "end_time": "2022-08-25T04:58:11.998740",
     "exception": false,
     "start_time": "2022-08-25T04:58:11.982732",
     "status": "completed"
    },
    "tags": []
   },
   "outputs": [],
   "source": [
    "load_data_from_local = False"
   ]
  },
  {
   "cell_type": "code",
   "execution_count": null,
   "id": "1c8a53af-6b0e-4dc6-8df0-0d6a80b57905",
   "metadata": {
    "papermill": {
     "duration": 0.01707,
     "end_time": "2022-08-25T04:58:12.023589",
     "exception": false,
     "start_time": "2022-08-25T04:58:12.006519",
     "status": "completed"
    },
    "tags": []
   },
   "outputs": [],
   "source": [
    "main_group_index = ['sku', 'customer', 'warehouse']\n",
    "mat_group = 'sku'"
   ]
  },
  {
   "cell_type": "code",
   "execution_count": null,
   "id": "ef118000-260a-455c-a688-7fa3687f1367",
   "metadata": {
    "papermill": {
     "duration": 0.016904,
     "end_time": "2022-08-25T04:58:12.048312",
     "exception": false,
     "start_time": "2022-08-25T04:58:12.031408",
     "status": "completed"
    },
    "tags": []
   },
   "outputs": [],
   "source": [
    "if load_data_from_local :\n",
    "    price_var = 'price'\n",
    "    volume_var = 'dc_offtake'\n",
    "    main_group_index = ['sku', 'customer', 'warehouse']\n",
    "    mat_group = 'material'\n",
    "else :\n",
    "    price_var = 'y'\n",
    "    volume_var = 'y'\n",
    "    main_group_index = ['id']\n",
    "    mat_group = 'material'"
   ]
  },
  {
   "cell_type": "code",
   "execution_count": null,
   "id": "48b62a02-2340-4913-8641-54b44805b9c2",
   "metadata": {
    "papermill": {
     "duration": 0.015619,
     "end_time": "2022-08-25T04:58:12.071818",
     "exception": false,
     "start_time": "2022-08-25T04:58:12.056199",
     "status": "completed"
    },
    "tags": []
   },
   "outputs": [],
   "source": [
    "price_index = 1103"
   ]
  },
  {
   "cell_type": "code",
   "execution_count": null,
   "id": "35341841-d9fe-4aa1-83dd-61d1de5fc5e1",
   "metadata": {
    "papermill": {
     "duration": 0.062076,
     "end_time": "2022-08-25T04:58:12.142446",
     "exception": false,
     "start_time": "2022-08-25T04:58:12.080370",
     "status": "completed"
    },
    "tags": []
   },
   "outputs": [],
   "source": [
    "if load_data_from_local :\n",
    "    att_df = pd.read_csv(\"../../Cleaned_Input/all_att_data.csv\")\n",
    "    vol_df = pd.read_parquet(\"../../Cleaned_Input/UI_Files/si_monthly_volume_nr.parquet\")\n",
    "    price_df = pd.read_parquet(\"../../Cleaned_Input/UI_Files/si_monthly_price_nr.parquet\")\n",
    "    list_price_df = pd.read_parquet(\"../../Cleaned_Input/UI_Files/si_monthly_price_nr.parquet\")\n",
    "    discount_price_df = pd.read_parquet(\"../../Cleaned_Input/UI_Files/si_monthly_price_nr.parquet\")\n",
    "    vol_df.rename(columns={'date':'ts'},inplace=True)\n",
    "    price_df.rename(columns={'date':'ts'},inplace=True)\n",
    "    list_price_df.rename(columns={'date':'ts'},inplace=True)\n",
    "    discount_price_df.rename(columns={'date':'ts'},inplace=True)\n",
    "if not load_data_from_local:\n",
    "    path_index_val = os.listdir(\"/srv/stemly/data/{}/index\".format(workspace_id))[0]\n",
    "    path_index = \"/srv/stemly/data/{}/index\".format(workspace_id) + \"/\" + str(path_index_val)\n",
    "    vol_df = pd.concat([pd.read_parquet(fp) for fp in committed_files])\n",
    "\n",
    "    att_df = pd.read_csv(attr_path)\n",
    "    price_parquet_file_path = path_index + \"/timeseries/\"+ str(price_index)+ \"/commit/ts.0\"\n",
    "    price_file_names =  os.listdir(price_parquet_file_path)\n",
    "    price_file_paths = [price_parquet_file_path+ \"/\" + i for i in price_file_names]\n",
    "    print(price_file_paths)\n",
    "\n",
    "    price_df = pd.concat([pd.read_parquet(fp) for fp in price_file_paths])\n",
    "  "
   ]
  },
  {
   "cell_type": "code",
   "execution_count": null,
   "id": "49b5b7fc-662e-4b68-83d7-cb3e955fd161",
   "metadata": {
    "papermill": {
     "duration": 0.02651,
     "end_time": "2022-08-25T04:58:12.176997",
     "exception": false,
     "start_time": "2022-08-25T04:58:12.150487",
     "status": "completed"
    },
    "tags": []
   },
   "outputs": [],
   "source": [
    "vol_df.head()"
   ]
  },
  {
   "cell_type": "code",
   "execution_count": null,
   "id": "e8e26bdb-38a2-4a21-8fab-5c588a04645b",
   "metadata": {
    "papermill": {
     "duration": 0.018412,
     "end_time": "2022-08-25T04:58:12.203684",
     "exception": false,
     "start_time": "2022-08-25T04:58:12.185272",
     "status": "completed"
    },
    "tags": []
   },
   "outputs": [],
   "source": [
    "joining_keys = [\"ts\"] + main_group_index\n",
    "joining_keys"
   ]
  },
  {
   "cell_type": "code",
   "execution_count": null,
   "id": "7876d2a7-15f1-4d11-a769-2511eee25ff6",
   "metadata": {
    "papermill": {
     "duration": 0.040043,
     "end_time": "2022-08-25T04:58:12.252544",
     "exception": false,
     "start_time": "2022-08-25T04:58:12.212501",
     "status": "completed"
    },
    "tags": []
   },
   "outputs": [],
   "source": [
    "vol_df.rename(columns={volume_var:'y'},inplace=True)\n",
    "price_df.rename(columns={price_var:'price'},inplace=True)\n",
    "\n",
    "price_df = price_df[main_group_index+['price','ts']]\n",
    "vol_df = vol_df[main_group_index+['y','ts']]\n",
    "\n",
    "vol_df = vol_df.groupby(joining_keys).sum().reset_index()\n",
    "price_df = price_df.groupby(joining_keys).mean().reset_index()\n",
    "if not load_data_from_local:\n",
    "    att_df.rename(columns={'__idx':'id'},inplace=True)\n",
    "\n",
    "print(vol_df.shape)\n",
    "df_base = pd.merge(vol_df, price_df, on =joining_keys, how='left')\n",
    "df_base = pd.merge(df_base, att_df,  on = main_group_index, how='left')\n",
    "df_base\n",
    "df_base.loc[df_base['y'] < 0,'y'] = 0\n",
    "print(df_base.shape)"
   ]
  },
  {
   "cell_type": "code",
   "execution_count": null,
   "id": "95ee22af-1c41-4529-a644-6f938de6c5de",
   "metadata": {
    "papermill": {
     "duration": 0.018695,
     "end_time": "2022-08-25T04:58:12.280079",
     "exception": false,
     "start_time": "2022-08-25T04:58:12.261384",
     "status": "completed"
    },
    "tags": []
   },
   "outputs": [],
   "source": [
    "sub_group_index = ['ts','sku','customer']\n",
    "sub_group_index"
   ]
  },
  {
   "cell_type": "code",
   "execution_count": null,
   "id": "8d6ea5b5-c74a-4121-9809-61e61ff80b22",
   "metadata": {
    "papermill": {
     "duration": 0.021587,
     "end_time": "2022-08-25T04:58:12.310203",
     "exception": false,
     "start_time": "2022-08-25T04:58:12.288616",
     "status": "completed"
    },
    "tags": []
   },
   "outputs": [],
   "source": [
    "att_df_sub = att_df[[ 'sku', 'customer', 'item_type', 'material', 'ph_level2', 'ph_level3',\n",
    "       'sku_description', 'cases','uom']].drop_duplicates()\n"
   ]
  },
  {
   "cell_type": "code",
   "execution_count": null,
   "id": "f46b571d-518d-4a35-ab93-abf1f9529742",
   "metadata": {
    "papermill": {
     "duration": 0.255663,
     "end_time": "2022-08-25T04:58:12.575098",
     "exception": false,
     "start_time": "2022-08-25T04:58:12.319435",
     "status": "completed"
    },
    "tags": []
   },
   "outputs": [],
   "source": [
    "df_sub = df_base[['ts','sku','customer','y','price']]\n",
    "df_sub1 = df_sub.groupby(sub_group_index).agg({'y':'sum','price':'mean'}).reset_index()\n",
    "df_sub1 = pd.merge(df_sub1,att_df_sub,on=['sku','customer'],how='left')\n",
    "df_sub1[price_var].replace([np.inf,0, -np.inf],np.nan,inplace=True)\n",
    "df_sub1[price_var] = df_sub1.groupby(sub_group_index)[price_var].transform(lambda x: x.ffill())\n",
    "df_sub1[price_var] = df_sub1.groupby(sub_group_index)[price_var].transform(lambda x: x.bfill())\n",
    "df_sub1[price_var].replace([np.nan],0,inplace=True)\n",
    "\n",
    "df_main = df_sub1.copy()\n",
    "df_sub1.head()\n"
   ]
  },
  {
   "cell_type": "code",
   "execution_count": null,
   "id": "8061a5c7-cd4a-479b-b824-d08c7f451ed1",
   "metadata": {
    "papermill": {
     "duration": 0.016226,
     "end_time": "2022-08-25T04:58:12.600421",
     "exception": false,
     "start_time": "2022-08-25T04:58:12.584195",
     "status": "completed"
    },
    "tags": []
   },
   "outputs": [],
   "source": [
    "freq = 'MS'\n",
    "with_val_dates = False"
   ]
  },
  {
   "cell_type": "code",
   "execution_count": null,
   "id": "98a9db7b-a874-4ff2-aa43-5ac43622b863",
   "metadata": {
    "papermill": {
     "duration": 0.021955,
     "end_time": "2022-08-25T04:58:12.631152",
     "exception": false,
     "start_time": "2022-08-25T04:58:12.609197",
     "status": "completed"
    },
    "tags": []
   },
   "outputs": [],
   "source": [
    "forecast_dates = pd.date_range(\n",
    "    start=ts_predict_start,\n",
    "    end=ts_predict_end,\n",
    "    freq=freq,\n",
    ")\n",
    "forecast_dates = forecast_dates[:-1]\n",
    "print(len(forecast_dates))\n",
    "forecast_dates"
   ]
  },
  {
   "cell_type": "code",
   "execution_count": null,
   "id": "beb8c1ab-15e5-4d9c-a6e9-1ae5c02d5b35",
   "metadata": {
    "papermill": {
     "duration": 0.022019,
     "end_time": "2022-08-25T04:58:12.662439",
     "exception": false,
     "start_time": "2022-08-25T04:58:12.640420",
     "status": "completed"
    },
    "tags": []
   },
   "outputs": [],
   "source": [
    "test_dates = pd.date_range(\n",
    "    start=ts_validate_start,\n",
    "    end=ts_validate_end,\n",
    "    freq=freq,\n",
    ")\n",
    "test_dates = test_dates[:-1]\n",
    "print(len(test_dates))\n",
    "test_dates"
   ]
  },
  {
   "cell_type": "code",
   "execution_count": null,
   "id": "a34a8033-b35f-4e18-b9a4-0c60b8a1eabc",
   "metadata": {
    "papermill": {
     "duration": 0.02122,
     "end_time": "2022-08-25T04:58:12.693118",
     "exception": false,
     "start_time": "2022-08-25T04:58:12.671898",
     "status": "completed"
    },
    "tags": []
   },
   "outputs": [],
   "source": [
    "val_dates = pd.date_range(\n",
    "    start=ts_test_start,\n",
    "    end=ts_test_end,\n",
    "    freq=freq,\n",
    ")\n",
    "val_dates = val_dates[:-1]\n",
    "print(len(val_dates))\n",
    "val_dates"
   ]
  },
  {
   "cell_type": "markdown",
   "id": "64b5c5e7-c66b-46bd-bf00-aa0b15f682d1",
   "metadata": {
    "papermill": {
     "duration": 0.045236,
     "end_time": "2022-08-25T04:58:12.747760",
     "exception": false,
     "start_time": "2022-08-25T04:58:12.702524",
     "status": "completed"
    },
    "tags": []
   },
   "source": [
    "## Data cleaning"
   ]
  },
  {
   "cell_type": "code",
   "execution_count": null,
   "id": "da7ac3e9-337e-4b0e-8d75-084c94c0296c",
   "metadata": {
    "papermill": {
     "duration": 0.019639,
     "end_time": "2022-08-25T04:58:12.777503",
     "exception": false,
     "start_time": "2022-08-25T04:58:12.757864",
     "status": "completed"
    },
    "tags": []
   },
   "outputs": [],
   "source": [
    "df_main.sku.unique()"
   ]
  },
  {
   "cell_type": "code",
   "execution_count": null,
   "id": "ac18c1f4-f141-419e-a68c-46f4f8cfb204",
   "metadata": {
    "papermill": {
     "duration": 0.209638,
     "end_time": "2022-08-25T04:58:12.996938",
     "exception": false,
     "start_time": "2022-08-25T04:58:12.787300",
     "status": "completed"
    },
    "tags": []
   },
   "outputs": [],
   "source": [
    "\n",
    "aa = df_main[(df_main['sku'] == 815517027491) & (df_main['customer'] == 'TMALL') ]\n",
    "\n",
    "_max = aa[[\"y\"]].max()\n",
    "\n",
    "plt.figure(figsize=(15,5))\n",
    "plt.plot(aa.ts, aa.y, label=\"actual\")\n",
    "plt.xlim([aa.ts.min(), aa.ts.max()])\n",
    "plt.ylabel(\"Amount\")\n",
    "#plt.title(\"Month: {}\".format(m))\n",
    "plt.legend()\n",
    "plt.show()\n",
    "aa.customer.unique()"
   ]
  },
  {
   "cell_type": "code",
   "execution_count": null,
   "id": "1f1d3559-bde8-4c71-864a-ed73c85918d1",
   "metadata": {
    "papermill": {
     "duration": 0.031452,
     "end_time": "2022-08-25T04:58:13.038494",
     "exception": false,
     "start_time": "2022-08-25T04:58:13.007042",
     "status": "completed"
    },
    "tags": []
   },
   "outputs": [],
   "source": []
  },
  {
   "cell_type": "code",
   "execution_count": null,
   "id": "176aaafb-f428-434e-82bc-f4e9a9d88fe0",
   "metadata": {
    "papermill": {
     "duration": 0.046,
     "end_time": "2022-08-25T04:58:13.094740",
     "exception": false,
     "start_time": "2022-08-25T04:58:13.048740",
     "status": "completed"
    },
    "tags": []
   },
   "outputs": [],
   "source": [
    "data = df_main.copy()\n",
    "data.head()\n",
    "\n",
    "unique_id = data[['sku','customer']].drop_duplicates().reset_index(drop=True)\n",
    "unique_id['id'] = unique_id.index\n",
    "data = pd.merge(data,unique_id,on=['sku','customer'])\n",
    "data.head()\n",
    "\n",
    "\n",
    "\n",
    "def to_days(x):\n",
    "    switcher = {0: \"Mon\", 1: \"Tue\", 2: \"Wed\", 3: \"Thu\", 4: \"Fri\", 5: \"Sat\", 6: \"Sun\"}\n",
    "    return switcher.get(x)\n",
    "def week_of_month(date_value):\n",
    "    return (date_value.isocalendar()[1] - date_value.replace(day=1).isocalendar()[1] + 1)\n",
    "data[\"month\"] = data[\"ts\"].dt.month \n",
    "data[\"year\"] = data[\"ts\"].dt.year \n",
    "\n",
    "print(data.shape)\n",
    "print(data.columns)\n",
    "id_sales_train = data[data['ts'] <= val_dates[0]]\n",
    "id_sales_train = id_sales_train.groupby('id')['y'].sum().reset_index()\n",
    "id_with_sales_df = id_sales_train[id_sales_train['y'] > 0]\n",
    "id_with_sales = id_with_sales_df.id.unique()\n",
    "data = data[(data['id'].isin(id_with_sales))]\n",
    "print(data.shape)\n",
    "data.head()"
   ]
  },
  {
   "cell_type": "code",
   "execution_count": null,
   "id": "27e25709-930d-4f0c-b074-225dfa4d7ef0",
   "metadata": {
    "papermill": {
     "duration": 0.029054,
     "end_time": "2022-08-25T04:58:13.134498",
     "exception": false,
     "start_time": "2022-08-25T04:58:13.105444",
     "status": "completed"
    },
    "tags": []
   },
   "outputs": [],
   "source": [
    "from feature_engineering_nai import get_features\n",
    "from feature_engineering_nai import get_events\n",
    "from feature_engineering_nai import calc_metrics\n",
    "from feature_engineering_nai import mean_encode"
   ]
  },
  {
   "cell_type": "code",
   "execution_count": null,
   "id": "63eb41ee-128e-457c-b561-62472352d71b",
   "metadata": {
    "papermill": {
     "duration": 0.03155,
     "end_time": "2022-08-25T04:58:13.177161",
     "exception": false,
     "start_time": "2022-08-25T04:58:13.145611",
     "status": "completed"
    },
    "tags": []
   },
   "outputs": [],
   "source": [
    "events = get_events()"
   ]
  },
  {
   "cell_type": "code",
   "execution_count": null,
   "id": "db6ca36c-53cf-4435-88ef-79397d255944",
   "metadata": {
    "papermill": {
     "duration": 0.018018,
     "end_time": "2022-08-25T04:58:13.206355",
     "exception": false,
     "start_time": "2022-08-25T04:58:13.188337",
     "status": "completed"
    },
    "tags": []
   },
   "outputs": [],
   "source": [
    "all_dates = {\n",
    "    \"val\": val_dates,\n",
    "    \"test\": test_dates,\n",
    "    \"forecast\": forecast_dates,\n",
    "}"
   ]
  },
  {
   "cell_type": "code",
   "execution_count": null,
   "id": "2e7e86f7-929a-4494-bd99-3c6c55cb8521",
   "metadata": {
    "papermill": {
     "duration": 0.11976,
     "end_time": "2022-08-25T04:58:13.336806",
     "exception": false,
     "start_time": "2022-08-25T04:58:13.217046",
     "status": "completed"
    },
    "tags": []
   },
   "outputs": [],
   "source": [
    "events = get_events()\n",
    "events['festival'] = events['festival'].astype('int64')\n",
    "events['promotion'] = events['promotion'].astype('int64')\n",
    "events['promotion_specific_date'] = events['promotion_specific_date'].astype('int64')\n",
    "events_weekly = []\n",
    "\n",
    "for h in events.holiday.unique():\n",
    "    # for each event, resample it to W-Mon\n",
    "    e = events.loc[events.holiday == h]\n",
    "    e = e.set_index(\"ds\").resample(freq, label=\"left\").first()\n",
    "    e.dropna(inplace=True)\n",
    "    events_weekly.append(e.reset_index())\n",
    "event_types = pd.get_dummies(events[\"type\"]).columns.to_list()\n",
    "events_weekly = pd.concat(events_weekly)\n",
    "tmp = []\n",
    "for t in events_weekly.ds.unique():\n",
    "    e = events_weekly.loc[events_weekly.ds == t].reset_index(drop=True)\n",
    "    if len(e) == 1:\n",
    "        tmp.append(e.drop(columns=[\"lower_window\", \"upper_window\"]))\n",
    "    else:\n",
    "        e.drop(columns=[\"lower_window\", \"upper_window\"], inplace=True)\n",
    "        e[\"holiday\"] = \",\".join(e[\"holiday\"].tolist())\n",
    "        e[\"type\"] = \",\".join(e[\"type\"].tolist())\n",
    "        _sum = e[event_types].sum()\n",
    "        for c in event_types:\n",
    "            e[c] = _sum[c]\n",
    "        tmp.append(e.drop_duplicates())\n",
    "events_weekly = pd.concat(tmp)\n",
    "events_weekly.sort_values(by=\"ds\", inplace=True)\n",
    "events_weekly.reset_index(inplace=True, drop=True)\n",
    "del tmp, e"
   ]
  },
  {
   "cell_type": "code",
   "execution_count": null,
   "id": "c7b3e408-1e07-4368-aeaa-b7b96d237044",
   "metadata": {
    "papermill": {
     "duration": 0.020918,
     "end_time": "2022-08-25T04:58:13.368541",
     "exception": false,
     "start_time": "2022-08-25T04:58:13.347623",
     "status": "completed"
    },
    "tags": []
   },
   "outputs": [],
   "source": [
    "len(data.id.unique())"
   ]
  },
  {
   "cell_type": "code",
   "execution_count": null,
   "id": "4e49b86f-7101-4740-84e4-fbe9748a83a4",
   "metadata": {
    "papermill": {
     "duration": 0.025902,
     "end_time": "2022-08-25T04:58:13.405794",
     "exception": false,
     "start_time": "2022-08-25T04:58:13.379892",
     "status": "completed"
    },
    "tags": []
   },
   "outputs": [],
   "source": [
    "id_sales_train = data[data['ts'] <= val_dates[0]]\n",
    "id_sales_train = id_sales_train.groupby('id')['y'].sum().reset_index()\n",
    "id_with_sales_df = id_sales_train[id_sales_train['y'] > 0]\n",
    "id_with_sales = id_with_sales_df.id.unique()\n",
    "data = data[(data['id'].isin(id_with_sales))]\n"
   ]
  },
  {
   "cell_type": "code",
   "execution_count": null,
   "id": "63b49a41-ac26-415d-8e30-c86334bb9eb0",
   "metadata": {
    "papermill": {
     "duration": 0.018728,
     "end_time": "2022-08-25T04:58:13.435540",
     "exception": false,
     "start_time": "2022-08-25T04:58:13.416812",
     "status": "completed"
    },
    "tags": []
   },
   "outputs": [],
   "source": [
    "df = data.copy()\n",
    "outlier_quantile=0.9\n",
    "verbose=1\n",
    "freq=\"MS\""
   ]
  },
  {
   "cell_type": "code",
   "execution_count": null,
   "id": "0c0f684e-6c0b-4261-9150-c52c771ca36b",
   "metadata": {
    "papermill": {
     "duration": 0.017871,
     "end_time": "2022-08-25T04:58:13.464554",
     "exception": false,
     "start_time": "2022-08-25T04:58:13.446683",
     "status": "completed"
    },
    "tags": []
   },
   "outputs": [],
   "source": [
    "# keep materials with > 0 sales in train data"
   ]
  },
  {
   "cell_type": "code",
   "execution_count": null,
   "id": "4dc2a2a6-ac27-432f-9aef-0e55a3957c2e",
   "metadata": {
    "papermill": {
     "duration": 0.010642,
     "end_time": "2022-08-25T04:58:13.486572",
     "exception": false,
     "start_time": "2022-08-25T04:58:13.475930",
     "status": "completed"
    },
    "tags": []
   },
   "outputs": [],
   "source": []
  },
  {
   "cell_type": "code",
   "execution_count": null,
   "id": "1ad2f156-9b72-4f74-9694-15febaee8273",
   "metadata": {
    "papermill": {
     "duration": 4.181192,
     "end_time": "2022-08-25T04:58:17.678380",
     "exception": false,
     "start_time": "2022-08-25T04:58:13.497188",
     "status": "completed"
    },
    "tags": []
   },
   "outputs": [],
   "source": [
    "df_with_spikes2 = get_features(data,all_dates,freq=\"MS\")\n",
    "df_with_spikes2['new_price'].replace([np.inf,0, -np.inf],np.nan,inplace=True)\n",
    "df_with_spikes2[\"new_price\"] = df_with_spikes2.groupby('material')['new_price'].transform(lambda x: x.ffill())\n",
    "df_with_spikes2[\"new_price\"] = df_with_spikes2.groupby('material')['new_price'].transform(lambda x: x.bfill())"
   ]
  },
  {
   "cell_type": "code",
   "execution_count": null,
   "id": "020a9091-2ac2-48c4-96e1-d3793412ac3a",
   "metadata": {
    "papermill": {
     "duration": 0.023664,
     "end_time": "2022-08-25T04:58:17.714280",
     "exception": false,
     "start_time": "2022-08-25T04:58:17.690616",
     "status": "completed"
    },
    "tags": []
   },
   "outputs": [],
   "source": [
    "df_with_spikes2.ts.max()"
   ]
  },
  {
   "cell_type": "code",
   "execution_count": null,
   "id": "a4373301-b58e-4ea7-a8f0-4571d624746a",
   "metadata": {
    "papermill": {
     "duration": 0.046274,
     "end_time": "2022-08-25T04:58:17.773927",
     "exception": false,
     "start_time": "2022-08-25T04:58:17.727653",
     "status": "completed"
    },
    "tags": []
   },
   "outputs": [],
   "source": [
    "features_df = df_with_spikes2.copy()\n",
    "train_data = features_df.loc[features_df.ts < np.min(val_dates)].reset_index(drop=True)\n",
    "unique_ids_to_consider = train_data.id.unique()\n",
    "features_df = features_df[features_df['id'].isin(unique_ids_to_consider)]\n",
    "print(len(features_df.id.unique()))\n",
    "\n",
    "features_df['sku_cust']  = features_df['sku'].astype(str)  + features_df['customer']\n",
    "features_df.head()"
   ]
  },
  {
   "cell_type": "code",
   "execution_count": null,
   "id": "ac38332e-2675-4ba4-9783-aa4e53d80914",
   "metadata": {},
   "outputs": [],
   "source": [
    "all_dates"
   ]
  },
  {
   "cell_type": "code",
   "execution_count": null,
   "id": "695ed2af-ecf4-4ef3-a64b-ca8f7e1aea50",
   "metadata": {
    "papermill": {
     "duration": 0.024174,
     "end_time": "2022-08-25T04:58:17.811709",
     "exception": false,
     "start_time": "2022-08-25T04:58:17.787535",
     "status": "completed"
    },
    "tags": []
   },
   "outputs": [],
   "source": [
    "features_df.columns"
   ]
  },
  {
   "cell_type": "markdown",
   "id": "c2274544-af48-458e-a36f-160c14b49dc9",
   "metadata": {
    "papermill": {
     "duration": 0.012976,
     "end_time": "2022-08-25T04:58:17.837727",
     "exception": false,
     "start_time": "2022-08-25T04:58:17.824751",
     "status": "completed"
    },
    "tags": []
   },
   "source": [
    "## Drop Features"
   ]
  },
  {
   "cell_type": "code",
   "execution_count": null,
   "id": "363113cc-dbc6-4221-b334-addd576c3e88",
   "metadata": {
    "papermill": {
     "duration": 0.02257,
     "end_time": "2022-08-25T04:58:17.873235",
     "exception": false,
     "start_time": "2022-08-25T04:58:17.850665",
     "status": "completed"
    },
    "tags": []
   },
   "outputs": [],
   "source": [
    "\n",
    "drop_features = [ 'price', 'list_price', 'discount', 'basic_material','events','lag_demand_2_months','average_expected_demand',\n",
    "       'channel', 'company', 'customer', 'customer_group', 'material','dummy1','dummy2','lag_demand',\n",
    "       'material_description', 'prod_brand', 'prod_category', 'year',\n",
    "       'woy', 'demand_1_year',\n",
    "       'festival', 'promotion', 'promotion_specific_date', 'last_event',\n",
    "       'next_event', \n",
    "       'days_since_last_event', 'days_to_next_event', 'demand_2_year',\n",
    "      'expected_demand',\n",
    "       'dummy_spike', 'dummy_event_spike', 'dummy_spike_before_event',\n",
    "       'dummy_expect_a_spike', 'dummy_expect_a_spike_price','days_since_launch',\n",
    "       'customer_brand', 'customer_category', 'customer_brand_company','meanenc_id_mean', 'meanenc_id_std', 'meanenc_id_max','item_type', 'material',\n",
    "       'ph_level2', 'ph_level3', 'sku_description', 'cases', 'uom']\n"
   ]
  },
  {
   "cell_type": "code",
   "execution_count": null,
   "id": "e1707b16-1733-4575-ba32-13facc03d8bd",
   "metadata": {
    "papermill": {
     "duration": 0.024806,
     "end_time": "2022-08-25T04:58:17.910981",
     "exception": false,
     "start_time": "2022-08-25T04:58:17.886175",
     "status": "completed"
    },
    "tags": []
   },
   "outputs": [],
   "source": [
    "\n",
    "drop_features1 = drop_features\n",
    "\n",
    "aa = features_df.copy()\n",
    "bb = aa.drop(columns=drop_features1,errors='ignore')\n",
    "bb.columns"
   ]
  },
  {
   "cell_type": "markdown",
   "id": "e7eb24cf-6406-44e3-9e17-f71cfad45f5f",
   "metadata": {
    "papermill": {
     "duration": 0.013099,
     "end_time": "2022-08-25T04:58:17.937327",
     "exception": false,
     "start_time": "2022-08-25T04:58:17.924228",
     "status": "completed"
    },
    "tags": []
   },
   "source": [
    "## Model definition"
   ]
  },
  {
   "cell_type": "code",
   "execution_count": null,
   "id": "befcc9de-1bf5-4ecf-bbaa-4573aed65013",
   "metadata": {},
   "outputs": [],
   "source": [
    "model_name = \"lgbm_per_category\"\n",
    "group_var = \"customer\""
   ]
  },
  {
   "cell_type": "code",
   "execution_count": null,
   "id": "525bf568-9af4-421d-8584-9df8fed7a363",
   "metadata": {
    "scrolled": true,
    "tags": []
   },
   "outputs": [],
   "source": [
    "def lgbm_model(features_df, model_name,group_var, val_dates, test_dates, forecast_dates):\n",
    "    datas = {}\n",
    "    f = features_df\n",
    "    train = f.loc[f.ts < np.min(val_dates)].reset_index(drop=True)\n",
    "    #train = train.loc[train.ts > \"2020-01-01\"].reset_index(drop=True)\n",
    "    val = f.loc[f.ts.isin(val_dates)].reset_index(drop=True)\n",
    "    test = f.loc[f.ts.isin(test_dates)].reset_index(drop=True)\n",
    "    predict = f.loc[f.ts.isin(forecast_dates)].reset_index(drop=True)\n",
    "\n",
    "    train[\"y\"] = train[\"y\"].astype(float)\n",
    "    val[\"y\"] = val[\"y\"].astype(float)\n",
    "    test[\"y\"] = test[\"y\"].astype(float)\n",
    "    predict[\"y\"] = np.nan\n",
    "\n",
    "    a = mean_encode(train.copy(), [\"id\"])\n",
    "    mean_enc_features = a[[\"id\"] + [x for x in a.columns if \"meanenc\" in x]].drop_duplicates()\n",
    "\n",
    "    train = pd.merge(train, mean_enc_features, on=\"id\", how=\"left\")\n",
    "    val = pd.merge(val, mean_enc_features, on=\"id\", how=\"left\")\n",
    "    test = pd.merge(test, mean_enc_features, on=\"id\", how=\"left\")\n",
    "    predict = pd.merge(predict, mean_enc_features, on=\"id\", how=\"left\")\n",
    "\n",
    "    x_train, y_train = train.drop(columns=[\"y\", \"ts\"]), train[\"y\"]\n",
    "    x_val, y_val = val.drop(columns=[\"y\", \"ts\"]), val[\"y\"]\n",
    "    x_test, y_test = test.drop(columns=[\"y\", \"ts\"]), test[\"y\"]\n",
    "    x_predict, y_predict = predict.drop(columns=[\"y\", \"ts\"]), predict[\"y\"]\n",
    "\n",
    "    enc_cols = x_train.select_dtypes(exclude=\"number\").columns.to_list()\n",
    "    encoders = {}\n",
    "    for col in enc_cols:\n",
    "        enc = LabelEncoder()\n",
    "        x_train[col] = enc.fit_transform(x_train[col])\n",
    "        x_val[col] = enc.transform(x_val[col])\n",
    "        x_test[col] = enc.transform(x_test[col])\n",
    "        x_predict[col] = enc.transform(x_predict[col])\n",
    "        encoders.update({col: enc})\n",
    "    print(train.ts.min(), train.ts.max(), train.shape)\n",
    "    print(val.ts.min(), val.ts.max(), val.shape)\n",
    "    print(test.ts.min(), test.ts.max(), test.shape)\n",
    "    print(predict.ts.min(), predict.ts.max(), predict.shape)\n",
    "\n",
    "    datas  = {\n",
    "            \"train\": train,\n",
    "            \"val\": val,\n",
    "            \"test\": test,\n",
    "            \"predict\": predict,\n",
    "            \"x_train\": x_train,\n",
    "            \"y_train\": y_train,\n",
    "            \"x_val\": x_val,\n",
    "            \"y_val\": y_val,\n",
    "            \"x_test\": x_test,\n",
    "            \"y_test\": y_test,\n",
    "            \"x_predict\": x_predict,\n",
    "            \"y_predict\": y_predict,\n",
    "        }\n",
    "\n",
    "\n",
    "    x_train = datas[\"x_train\"]\n",
    "    y_train = datas[\"y_train\"]\n",
    "\n",
    "    _model = {}\n",
    "\n",
    "\n",
    "\n",
    "    for sn in x_train[group_var].unique():\n",
    "        _x_train = x_train.loc[x_train[group_var] == sn].drop(columns=drop_features,errors= 'ignore')\n",
    "        _y_train = y_train.loc[x_train[group_var] == sn].drop(columns=drop_features,errors= 'ignore')\n",
    "        model = LGBMRegressor(\n",
    "            n_estimators=1000,\n",
    "            boosting=\"gbdt\",\n",
    "            learning_rate=0.01,\n",
    "            objective=\"tweedie\",\n",
    "            tweedie_variance_power=1.5,\n",
    "            colsample_bytree=0.9,\n",
    "            subsample=0.9,\n",
    "            force_col_wise=True,\n",
    "            reg_lambda=10,\n",
    "            reg_alpha=100,\n",
    "            n_jobs=-1,  \n",
    "            verbose=1,\n",
    "            random_state=42\n",
    "        )\n",
    "        model.set_params(**{'objective': 'rmse'}, metrics = [ 'rmse'])\n",
    "        model.fit(_x_train, _y_train,eval_metric='logloss')\n",
    "        _model.update({sn: model})\n",
    "\n",
    "    x_train = datas[\"x_train\"].drop(columns=drop_features,errors= 'ignore')\n",
    "\n",
    "    for sn in _model.keys():\n",
    "        fea_imp = pd.DataFrame({\"fea\": x_train.columns.to_list(), \"imp\": _model[sn].feature_importances_})\n",
    "        fea_imp.sort_values(by=\"imp\", inplace=True, ascending=False)\n",
    "\n",
    "        plt.figure(figsize=(5, 7))\n",
    "        sns.barplot(data=fea_imp, x=\"imp\", y=\"fea\")\n",
    "        plt.title(\" site_id: {}\".format( sn))\n",
    "        plt.show()\n",
    "\n",
    "\n",
    "    predict_df = []\n",
    "\n",
    "    x_train = datas[\"x_train\"]\n",
    "    x_val = datas[\"x_val\"]\n",
    "    x_test = datas[\"x_test\"]\n",
    "    x_predict = datas[\"x_predict\"]\n",
    "\n",
    "\n",
    "    for sn in _model.keys():\n",
    "        model = _model[sn]\n",
    "        model.set_params(**{\"verbose\": 0})\n",
    "        yhat_train = model.predict(x_train.loc[x_train[group_var]==sn].drop(columns=drop_features,errors= 'ignore'))\n",
    "        yhat_val = model.predict(x_val.loc[x_val[group_var]==sn].drop(columns=drop_features,errors= 'ignore'))\n",
    "        yhat_test = model.predict(x_test.loc[x_test[group_var]==sn].drop(columns=drop_features,errors= 'ignore'))\n",
    "        yhat_predict = model.predict(x_predict.loc[x_predict[group_var]==sn].drop(columns=drop_features,errors= 'ignore'))\n",
    "\n",
    "        sn2 = encoders[group_var].inverse_transform([sn])[0]\n",
    "        a = pd.concat([\n",
    "            datas[\"train\"].loc[datas[\"train\"][group_var]==sn2], \n",
    "            datas[\"val\"].loc[datas[\"val\"][group_var]==sn2], \n",
    "            datas[\"test\"].loc[datas[\"test\"][group_var]==sn2],\n",
    "            datas[\"predict\"].loc[datas[\"predict\"][group_var]==sn2]\n",
    "        ]).reset_index(drop=True)\n",
    "        a[\"yhat\"] = np.concatenate((yhat_train, yhat_val,yhat_test, yhat_predict))\n",
    "        a[\"yhat\"] = np.clip(np.round(a[\"yhat\"]), 0, None)\n",
    "        a[\"model\"] = model_name\n",
    "        predict_df.append(a)\n",
    "    predict_df = pd.concat(predict_df).reset_index(drop=True)  \n",
    "\n",
    "    return predict_df"
   ]
  },
  {
   "cell_type": "markdown",
   "id": "75e645fa-20dd-4f36-82a7-42cd72087f72",
   "metadata": {
    "papermill": {
     "duration": 0.013545,
     "end_time": "2022-08-25T04:58:18.018163",
     "exception": false,
     "start_time": "2022-08-25T04:58:18.004618",
     "status": "completed"
    },
    "tags": []
   },
   "source": [
    "## Run models"
   ]
  },
  {
   "cell_type": "code",
   "execution_count": null,
   "id": "05eebb32-a343-4613-92e4-ef3b61ada8aa",
   "metadata": {
    "papermill": {
     "duration": 0.020153,
     "end_time": "2022-08-25T04:58:18.051459",
     "exception": false,
     "start_time": "2022-08-25T04:58:18.031306",
     "status": "completed"
    },
    "tags": []
   },
   "outputs": [],
   "source": [
    "all_predictions = []"
   ]
  },
  {
   "cell_type": "code",
   "execution_count": null,
   "id": "b6b2f2df-21be-4e54-8c94-78ea8268d084",
   "metadata": {
    "papermill": {
     "duration": 5.153929,
     "end_time": "2022-08-25T04:58:23.253924",
     "exception": false,
     "start_time": "2022-08-25T04:58:18.099995",
     "status": "completed"
    },
    "scrolled": true,
    "tags": []
   },
   "outputs": [],
   "source": [
    "%%time\n",
    "predict_df = None\n",
    "predict_df  = lgbm_model(features_df, model_name,group_var, val_dates, test_dates, forecast_dates)"
   ]
  },
  {
   "cell_type": "code",
   "execution_count": null,
   "id": "1a72c81a-e8cf-42c7-91cf-288ff64ed921",
   "metadata": {
    "papermill": {
     "duration": 0.027725,
     "end_time": "2022-08-25T04:58:23.301688",
     "exception": false,
     "start_time": "2022-08-25T04:58:23.273963",
     "status": "completed"
    },
    "tags": []
   },
   "outputs": [],
   "source": [
    "all_predictions.append(predict_df)"
   ]
  },
  {
   "cell_type": "code",
   "execution_count": null,
   "id": "330d54aa-1400-44e7-88cc-d8dabc2f0e67",
   "metadata": {},
   "outputs": [],
   "source": [
    "\n",
    "\n",
    "ts = predict_df.fillna(0).groupby(\"ts\").sum().reset_index()\n",
    "train = ts.loc[ts.ts < all_dates[\"val\"][0]]\n",
    "val = ts.loc[ts.ts.isin(all_dates[\"val\"])]\n",
    "test = ts.loc[ts.ts.isin(all_dates[\"test\"])]\n",
    "forecasts = ts.loc[ts.ts.isin(all_dates[\"forecast\"])]\n",
    "\n",
    "_max = ts[[\"y\", \"yhat\"]].max().max()\n",
    "\n",
    "plt.figure(figsize=(15,5))\n",
    "plt.plot(ts.ts, ts.y, label=\"actual\")\n",
    "\n",
    "plt.plot(train.ts, train.yhat, label=\"train\")\n",
    "\n",
    "\n",
    "if(val.shape[0] ==1):\n",
    "    print(\"Ds\")\n",
    "    plt.plot(val.ts,  val.yhat, marker=\"o\", markersize=10, markeredgecolor=\"green\", markerfacecolor=\"green\", label=\"val\")\n",
    "else:\n",
    "    plt.plot(val.ts, val.yhat, label=\"val\")\n",
    "    \n",
    "if(test.shape[0] ==1):\n",
    "    print(\"Ds\")\n",
    "    plt.plot(test.ts,  test.yhat, marker=\"o\", markersize=10, markeredgecolor=\"green\", markerfacecolor=\"green\", label=\"test\")\n",
    "else:\n",
    "    plt.plot(test.ts, test.yhat, label=\"test\")\n",
    "\n",
    "\n",
    "plt.plot(forecasts.ts, forecasts.yhat, label=\"forecast\")\n",
    "for i in range(len(events)):\n",
    "    plt.plot([events.ds[i], events.ds[i]], [0, _max], \"k-.\")\n",
    "    if (events.ds[i] > ts.ts.min()) and (events.ds[i] < ts.ts.max()):\n",
    "        plt.text(events.ds[i], _max*1.1, events.holiday[i], rotation=90)\n",
    "plt.xlim([ts.ts.min(), ts.ts.max()])\n",
    "plt.ylabel(\"Overall sales \")\n",
    "plt.legend()\n",
    "plt.show()"
   ]
  },
  {
   "cell_type": "code",
   "execution_count": null,
   "id": "bad770d1-e8a7-4b99-9082-73389ef0c9dc",
   "metadata": {},
   "outputs": [],
   "source": [
    "predict_df.columns"
   ]
  },
  {
   "cell_type": "code",
   "execution_count": null,
   "id": "3b79bdd2-fa9b-4f37-9658-e217c52b013c",
   "metadata": {
    "scrolled": true,
    "tags": []
   },
   "outputs": [],
   "source": [
    "skus =  predict_df.sku.unique()\n",
    "\n",
    "for this_sku in skus :\n",
    "    this_ts = predict_df[predict_df['sku'] == this_sku]\n",
    "    sku_desc = this_ts.sku_description.unique()[0]\n",
    "    ts = this_ts.fillna(0).groupby(\"ts\").sum().reset_index()\n",
    "    train = ts.loc[ts.ts < all_dates[\"val\"][0]]\n",
    "    val = ts.loc[ts.ts.isin(all_dates[\"val\"])]\n",
    "    test = ts.loc[ts.ts.isin(all_dates[\"test\"])]\n",
    "    forecasts = ts.loc[ts.ts.isin(all_dates[\"forecast\"])]\n",
    "\n",
    "    _max = ts[[\"y\", \"yhat\"]].max().max()\n",
    "\n",
    "    plt.figure(figsize=(15,5))\n",
    "    plt.plot(ts.ts, ts.y, label=\"actual\")\n",
    "\n",
    "    plt.plot(train.ts, train.yhat, label=\"train\")\n",
    "\n",
    "\n",
    "    if(val.shape[0] ==1):\n",
    "        plt.plot(val.ts,  val.yhat, marker=\"o\", markersize=10, markeredgecolor=\"green\", markerfacecolor=\"green\", label=\"val\")\n",
    "    else:\n",
    "        plt.plot(val.ts, val.yhat, label=\"val\")\n",
    "\n",
    "    if(test.shape[0] ==1):\n",
    "        plt.plot(test.ts,  test.yhat, marker=\"o\", markersize=10, markeredgecolor=\"green\", markerfacecolor=\"green\", label=\"test\")\n",
    "    else:\n",
    "        plt.plot(test.ts, test.yhat, label=\"test\")\n",
    "\n",
    "\n",
    "    plt.plot(forecasts.ts, forecasts.yhat, label=\"forecast\")\n",
    "    for i in range(len(events)):\n",
    "        plt.plot([events.ds[i], events.ds[i]], [0, _max], \"k-.\")\n",
    "        if (events.ds[i] > ts.ts.min()) and (events.ds[i] < ts.ts.max()):\n",
    "            plt.text(events.ds[i], _max*1.2, events.holiday[i], rotation=90)\n",
    "    plt.xlim([ts.ts.min(), ts.ts.max()])\n",
    "   # plt.ylim([0, predict_df.yhat.max()])\n",
    "    plt.ylabel(\"Overall sales \")\n",
    "    plt.title(sku_desc)\n",
    "    plt.legend()\n",
    "    plt.show()"
   ]
  },
  {
   "cell_type": "code",
   "execution_count": null,
   "id": "1b745d0e-b0a4-47cc-ae40-348bb79265a2",
   "metadata": {},
   "outputs": [],
   "source": [
    "results = pd.DataFrame()\n",
    "for i in range(len(versions)):\n",
    "    for _id in predict_df.id.unique():\n",
    "        ts = predict_df.loc[(predict_df[\"id\"] == _id) ].reset_index(drop=True)\n",
    "        test = ts.loc[ (ts.ts.isin( all_dates[versions[i]])) | (ts.ts.isin( all_dates[versions[i]][\"val\"])) ].copy()\n",
    "        \n",
    "        metrics = calc_metrics(test.y, test.yhat)\n",
    "        metrics.update({\n",
    "            \"id\": _id,\n",
    "            \"sku\": ts[\"sku\"][0],\n",
    "            \"customer\": ts[\"customer\"][0],\n",
    "            \"test_start\": all_dates[versions[i]][\"val\"][0],\n",
    "            \"test_end\": all_dates[versions[i]][\"test\"][-1],\n",
    "            \"total_actual\": test.y.sum(),\n",
    "            \"total_forecast\": test.yhat.sum(),\n",
    "        })\n",
    "        results = results.append(metrics, ignore_index=True, sort=False)\n",
    "\n",
    "main_cols = [\"id\", \"sku\", \"customer\", \"test_start\", \"test_end\", \"total_actual\", \"total_forecast\"]\n",
    "results = results[main_cols + list(results.drop(columns=main_cols).columns)].copy()\n",
    "results[\"sp1\"] = results[\"total_actual\"] / results[\"total_forecast\"]\n",
    "results[\"sp1\"] = np.nan_to_num(results[\"sp1\"], nan=1, posinf=0, neginf=0)\n",
    "results[\"model\"] = predict_df.model[0]\n",
    "\n",
    "results.sort_values(by=\"id\").reset_index(drop=True).set_index([\"model\", \"id\"])\n",
    "results.groupby(\"customer\").mean()\n",
    "results.groupby(\"customer\").median()\n",
    "plt.figure(figsize=(15,5))\n",
    "sns.boxplot(data=results, y=\"sp1\", x=\"customer\")\n",
    "plt.show()\n",
    "\n",
    "    "
   ]
  },
  {
   "cell_type": "code",
   "execution_count": null,
   "id": "73e28ddd-6759-4b66-8ce9-915a63bc964b",
   "metadata": {
    "papermill": {
     "duration": 0.037074,
     "end_time": "2022-08-25T04:58:23.358464",
     "exception": false,
     "start_time": "2022-08-25T04:58:23.321390",
     "status": "completed"
    },
    "tags": []
   },
   "outputs": [],
   "source": [
    "data1 = data[data['y'] >0]\n",
    "data1 = data1.groupby(['sku','customer'])['y'].count().reset_index()\n",
    "data1.rename(columns={'y':'num_obs'},inplace=True)\n",
    "data1.head()\n"
   ]
  },
  {
   "cell_type": "code",
   "execution_count": null,
   "id": "c52f045b-0439-4f2c-8847-13dfc755d895",
   "metadata": {
    "papermill": {
     "duration": 0.061857,
     "end_time": "2022-08-25T04:58:23.440185",
     "exception": false,
     "start_time": "2022-08-25T04:58:23.378328",
     "status": "completed"
    },
    "tags": []
   },
   "outputs": [],
   "source": [
    "test_data_group = predict_df[(predict_df['ts'].isin(test_dates)) |  (predict_df['ts'].isin(val_dates))]\n",
    "test_data_group.rename(columns={'y':'total_actual','yhat':'total_forecast'},inplace=True)\n",
    "test_data_group['ts']  = test_data_group['ts'].dt.date\n",
    "if group_var == \"All\":\n",
    "    test_data_group['All'] = 'All'\n",
    "\n",
    "test_data_group['mad'] = abs(test_data_group[\"total_actual\"] - test_data_group[\"total_forecast\"]) \n",
    "test_data_group = test_data_group.groupby(['ts','sku','customer']).agg({'total_actual':'sum','total_forecast':'sum','mad':'sum'})\n",
    "test_data_group[\"ape\"] = test_data_group['mad'] / test_data_group[\"total_forecast\"]\n",
    "test_data_group[\"ape\"] = test_data_group[\"ape\"]*100\n",
    "test_data_group[\"ape\"] = test_data_group[\"ape\"].round(2)\n",
    "#test_data_group = test_data_group[~test_data_group['ape'].isin([np.nan, np.inf, -np.inf])]\n",
    "test_data_group['accuracy'] = 100 - test_data_group['ape']\n",
    "test_data_group = test_data_group.reset_index()\n",
    "test_data_group = pd.merge(test_data_group,data1,on=['sku','customer'])\n",
    "test_data_group.loc[ (test_data_group['total_actual'] == 0)  & (test_data_group['total_forecast'] > 0) ,'accuracy'] = 0\n",
    "test_data_group.loc[ (test_data_group['total_actual'] > 0)  & (test_data_group['total_forecast'] == 0) ,'accuracy'] = 0\n",
    "test_data_group.loc[ (test_data_group['accuracy'] < 0)   ,'accuracy'] = 0\n",
    "test_data_group.loc[ (test_data_group['total_actual'] == 0)  & (test_data_group['total_forecast'] == 0) ,'accuracy'] = 100\n",
    "test_data_group = test_data_group.sort_values(by=['accuracy']).reset_index()\n",
    "test_data_group.head()"
   ]
  },
  {
   "cell_type": "code",
   "execution_count": null,
   "id": "5d297f0a-7426-447f-91a7-913ed1bed2f1",
   "metadata": {
    "papermill": {
     "duration": 0.03078,
     "end_time": "2022-08-25T04:58:23.491231",
     "exception": false,
     "start_time": "2022-08-25T04:58:23.460451",
     "status": "completed"
    },
    "tags": []
   },
   "outputs": [],
   "source": [
    "len(predict_df.id.unique())"
   ]
  },
  {
   "cell_type": "code",
   "execution_count": null,
   "id": "300162c4-62a7-41c0-bcdc-b870a54a35ad",
   "metadata": {
    "papermill": {
     "duration": 5.588037,
     "end_time": "2022-08-25T04:58:29.100359",
     "exception": false,
     "start_time": "2022-08-25T04:58:23.512322",
     "status": "completed"
    },
    "scrolled": true,
    "tags": []
   },
   "outputs": [],
   "source": [
    "results = pd.DataFrame()\n",
    "\n",
    "for _id in predict_df.id.unique():\n",
    "    ts = predict_df.loc[(predict_df[\"id\"] == _id) ].reset_index(drop=True)\n",
    "    test = ts.loc[ts.ts.isin(test_dates)].copy()\n",
    "\n",
    "    metrics = calc_metrics(test.y, test.yhat)\n",
    "    metrics.update({\n",
    "        \"id\": _id,\n",
    "        \"sku\": ts[\"sku\"][0],\n",
    "        \"customer\": ts[\"customer\"][0],\n",
    "        \"test_start\": test_dates[0],\n",
    "        \"test_end\": test_dates[-1],\n",
    "        \"total_actual\": test.y.sum(),\n",
    "        \"total_forecast\": test.yhat.sum(),\n",
    "    })\n",
    "    results = results.append(metrics, ignore_index=True, sort=False)\n",
    "\n",
    "main_cols = [\"id\", \"sku\", \"customer\", \"test_start\", \"test_end\", \"total_actual\", \"total_forecast\"]\n",
    "results = results[main_cols + list(results.drop(columns=main_cols).columns)].copy()\n",
    "results[\"sp1\"] = results[\"total_actual\"] / results[\"total_forecast\"]\n",
    "results[\"sp1\"] = np.nan_to_num(results[\"sp1\"], nan=1, posinf=0, neginf=0)\n",
    "results[\"model\"] = predict_df.model[0]\n",
    "\n",
    "results.sort_values(by=\"id\").reset_index(drop=True).set_index([\"model\", \"id\"])\n",
    "results.groupby(\"customer\").mean()\n",
    "results.groupby(\"customer\").median()\n",
    "plt.figure(figsize=(15,5))\n",
    "sns.boxplot(data=results, y=\"sp1\", x=\"customer\")\n",
    "plt.show()\n",
    "\n",
    "    "
   ]
  },
  {
   "cell_type": "code",
   "execution_count": null,
   "id": "cad77d4f-27d1-4d43-aeda-a44427b22f6d",
   "metadata": {
    "papermill": {
     "duration": 0.05195,
     "end_time": "2022-08-25T04:58:29.181952",
     "exception": false,
     "start_time": "2022-08-25T04:58:29.130002",
     "status": "completed"
    },
    "tags": []
   },
   "outputs": [],
   "source": [
    "dc_offtake = pd.read_csv(\"offtake_china.csv\")\n",
    "print(dc_offtake.shape)\n",
    "dc_offtake = dc_offtake[['sku','customer','warehouse','offtake_percent_dc']].drop_duplicates()\n",
    "print(dc_offtake.shape)\n",
    "dc_offtake"
   ]
  },
  {
   "cell_type": "code",
   "execution_count": null,
   "id": "1020c7eb-a027-415e-997b-fdc144c574d6",
   "metadata": {},
   "outputs": [],
   "source": [
    "results = pd.DataFrame()\n",
    "for _id in predict_df.id.unique():\n",
    "    ts = predict_df.loc[(predict_df[\"id\"] == _id) ].reset_index(drop=True)\n",
    "    test = ts.loc[ts.ts.isin(test_dates) | ts.ts.isin(val_dates)].copy()\n",
    "\n",
    "    metrics = calc_metrics(test.y, test.yhat)\n",
    "    metrics.update({\n",
    "        \"id\": _id,\n",
    "        \"sku\": ts[\"sku\"][0],\n",
    "        \"customer\": ts[\"customer\"][0],\n",
    "        \"test_start\": test_dates[0],\n",
    "        \"test_end\": val_dates[-1],\n",
    "        \"total_actual\": test.y.sum(),\n",
    "        \"total_forecast\": test.yhat.sum(),\n",
    "    })\n",
    "    results = results.append(metrics, ignore_index=True, sort=False)\n",
    "\n",
    "main_cols = [\"id\", \"sku\", \"customer\", \"test_start\", \"test_end\", \"total_actual\", \"total_forecast\"]\n",
    "results = results[main_cols + list(results.drop(columns=main_cols).columns)].copy()\n",
    "results[\"sp1\"] = results[\"total_actual\"] / results[\"total_forecast\"]\n",
    "results[\"sp1\"] = np.nan_to_num(results[\"sp1\"], nan=1, posinf=0, neginf=0)\n",
    "results[\"model\"] = predict_df.model[0]\n",
    "results.head()\n"
   ]
  },
  {
   "cell_type": "code",
   "execution_count": null,
   "id": "7ae31347-3de3-47e2-80ff-4390038b9116",
   "metadata": {},
   "outputs": [],
   "source": []
  },
  {
   "cell_type": "code",
   "execution_count": null,
   "id": "d6fbbaa1-ceb3-4866-a5e8-20b836e61dd8",
   "metadata": {},
   "outputs": [],
   "source": [
    "results_att = results.copy()\n",
    "results_att.drop(columns={'id'},inplace=True)\n",
    "print(results_att.shape)\n",
    "print(att_df.columns)\n",
    "att_df1 = att_df[['cases', 'customer', 'item_type', 'material', 'ph_level2', 'ph_level3',\n",
    "       'sku', 'sku_description', 'uom']].drop_duplicates()\n",
    "print(results_att.shape)\n",
    "results_att = pd.merge(results_att,att_df1,on=['sku','customer'])\n",
    "print(results_att.shape)\n",
    "results_att.head()"
   ]
  },
  {
   "cell_type": "code",
   "execution_count": null,
   "id": "4bc9e802-866f-4c2d-a801-30adb38e2877",
   "metadata": {},
   "outputs": [],
   "source": [
    "results = pd.DataFrame()\n",
    "\n",
    "ts = predict_df.copy()\n",
    "test_res = ts.loc[ts.ts.isin(test_dates) | ts.ts.isin(val_dates)].copy().reset_index(drop=True)\n",
    "main_cols = [\"id\", \"sku\", \"customer\", \"ts\", \"y\", \"yhat\"]\n",
    "test_res.rename(columns={'y':'total_actual','yhat':'total_forecast'},inplace=True)\n",
    "test_res = test_res[[\"id\", \"ts\", \"sku\", \"customer\",\"total_actual\", \"total_forecast\"]]\n",
    "test_res[\"sp1\"] = test_res[\"total_actual\"] / test_res[\"total_forecast\"]\n",
    "test_res[\"sp1\"] = np.nan_to_num(test_res[\"sp1\"], nan=1, posinf=0, neginf=0)\n",
    "print(test_res.shape)\n",
    "test_res = pd.merge(test_res,att_df1,on=['sku','customer'])\n",
    "print(test_res.shape)\n",
    "test_res.head()"
   ]
  },
  {
   "cell_type": "code",
   "execution_count": null,
   "id": "b3479dd9-13c9-4c6a-86b1-7d3a4dc9860f",
   "metadata": {},
   "outputs": [],
   "source": [
    "import write_data_table\n",
    "write_data_table.send_data(results_att,'sp1_china','w7')\n",
    "write_data_table.send_data(test_res,'sp1_detail_china','w7')\n"
   ]
  },
  {
   "cell_type": "markdown",
   "id": "e20e8c5a-465e-4963-bf52-8c7ab78611ce",
   "metadata": {
    "papermill": {
     "duration": 0.027541,
     "end_time": "2022-08-25T04:58:29.236583",
     "exception": false,
     "start_time": "2022-08-25T04:58:29.209042",
     "status": "completed"
    },
    "tags": []
   },
   "source": [
    "## Export data"
   ]
  },
  {
   "cell_type": "code",
   "execution_count": null,
   "id": "c10dccb4-9b17-49cb-8dc5-622c0f93cbbb",
   "metadata": {},
   "outputs": [],
   "source": [
    "predict_df_dc.y_dc.unique()"
   ]
  },
  {
   "cell_type": "code",
   "execution_count": null,
   "id": "0e90fea3-0fdc-43d2-a166-b256745a8a40",
   "metadata": {
    "papermill": {
     "duration": 0.055799,
     "end_time": "2022-08-25T04:58:29.319580",
     "exception": false,
     "start_time": "2022-08-25T04:58:29.263781",
     "status": "completed"
    },
    "tags": []
   },
   "outputs": [],
   "source": [
    "predict_df_dc = predict_df[['ts','sku','customer', 'yhat', 'y']]\n",
    "print(predict_df_dc.shape)\n",
    "predict_df_dc = pd.merge(predict_df_dc,dc_offtake,on=['sku','customer'],how='left')\n",
    "print(predict_df_dc.shape)\n",
    "predict_df_dc['yhat_dc'] = predict_df_dc['yhat']*predict_df_dc['offtake_percent_dc']/100\n",
    "predict_df_dc['yhat_dc'] = predict_df_dc['yhat_dc'].astype('int64')\n",
    "predict_df_dc['y_dc'] = predict_df_dc['y']*predict_df_dc['offtake_percent_dc']/100\n",
    "predict_df_dc['y_dc'].fillna(0,inplace=True)\n",
    "predict_df_dc['y_dc'] = predict_df_dc['y_dc'].astype('int64')\n",
    "predict_df_dc"
   ]
  },
  {
   "cell_type": "code",
   "execution_count": null,
   "id": "8f4dd34b-c25d-42ea-a8cf-59ec59253446",
   "metadata": {
    "papermill": {
     "duration": 0.070441,
     "end_time": "2022-08-25T04:58:29.417244",
     "exception": false,
     "start_time": "2022-08-25T04:58:29.346803",
     "status": "completed"
    },
    "tags": []
   },
   "outputs": [],
   "source": [
    "att_df_main = att_df[['id','sku','customer','warehouse']]\n",
    "predict_df_dc_final = pd.merge(predict_df_dc,att_df_main,on=['sku','customer','warehouse'],how='left')\n",
    "predict_df_dc_final"
   ]
  },
  {
   "cell_type": "code",
   "execution_count": null,
   "id": "cc289c49-98c6-4f9a-900a-227deafc0ab0",
   "metadata": {},
   "outputs": [],
   "source": [
    "replenishment_op = predict_df_dc_final.copy()\n",
    "replenishment_op.rename(columns={'y_dc':'demand'},inplace=True)\n",
    "replenishment_op.drop(columns={'offtake_percent_dc','id'},inplace=True)\n",
    "replenishment_op[\"ts\"] = pd.to_datetime(replenishment_op[\"ts\"])\n",
    "replenishment_op['type'] = 'Actuals'\n",
    "replenishment_op.loc[replenishment_op['ts'].isin(forecast_dates),'type'] = 'Forecast'\n",
    "replenishment_op = replenishment_op[['ts','sku','customer','warehouse','demand','yhat_dc']]\n",
    "replenishment_op.loc[replenishment_op['ts'].isin(forecast_dates),'demand'] = replenishment_op.loc[replenishment_op['ts'].isin(forecast_dates),'yhat_dc'] \n",
    "replenishment_op.drop(columns={'yhat_dc'},inplace=True)\n",
    "replenishment_op.head()"
   ]
  },
  {
   "cell_type": "code",
   "execution_count": null,
   "id": "7d149515-13e8-4a2c-abfd-f57f527410e5",
   "metadata": {},
   "outputs": [],
   "source": [
    "replenishment_op.to_csv(\"actuals_forecast_china.csv\")"
   ]
  },
  {
   "cell_type": "code",
   "execution_count": null,
   "id": "801d1d97-c5fa-4550-b70b-8c5c9ce31981",
   "metadata": {
    "papermill": {
     "duration": 0.048083,
     "end_time": "2022-08-25T04:58:29.493022",
     "exception": false,
     "start_time": "2022-08-25T04:58:29.444939",
     "status": "completed"
    },
    "tags": []
   },
   "outputs": [],
   "source": [
    "predict_df_dc_final[\"ts\"] = predict_df_dc_final[\"ts\"].astype(\"datetime64[ns]\")\n",
    "predict_df_dc_final[\"id\"] = predict_df_dc_final[\"id\"].astype(\"uint64\")\n",
    "\n",
    "test_df = predict_df_dc_final.loc[predict_df_dc_final.ts.isin(test_dates)].reset_index(drop=True)\n",
    "val_df = predict_df_dc_final.loc[predict_df_dc_final.ts.isin(val_dates)].reset_index(drop=True)\n",
    "predict_df_dc_final = predict_df_dc_final.loc[predict_df_dc_final.ts.isin(forecast_dates)].reset_index(drop=True)\n",
    "predict_df_dc_final = predict_df_dc_final[[\"ts\", \"id\", \"yhat_dc\"]].copy()\n",
    "predict_df_dc_final.rename(columns={\"yhat_dc\": \"y\"}, inplace=True)\n",
    "test_df = test_df[[\"ts\", \"id\", \"yhat_dc\"]].copy()\n",
    "test_df.rename(columns={\"yhat_dc\": \"y\"}, inplace=True)\n",
    "\n",
    "val_df = val_df[[\"ts\", \"id\", \"yhat_dc\"]].copy()\n",
    "val_df.rename(columns={\"yhat_dc\": \"y\"}, inplace=True)\n",
    "\n",
    "valid_df = lambda df : all([x in df.columns for x in ['ts', 'id', 'y']])"
   ]
  },
  {
   "cell_type": "code",
   "execution_count": null,
   "id": "51017989-7a14-4e38-907a-683d6954d634",
   "metadata": {
    "papermill": {
     "duration": 0.641327,
     "end_time": "2022-08-25T04:58:30.227554",
     "exception": true,
     "start_time": "2022-08-25T04:58:29.586227",
     "status": "failed"
    },
    "tags": []
   },
   "outputs": [],
   "source": [
    "## Validation df structure\n",
    "if not valid_df(val_df):\n",
    "    raise ValueError(\"Validation Dataframe columns are not compliant\")\n",
    "\n",
    "## Test df structure\n",
    "if not valid_df(test_df):\n",
    "    raise ValueError(\"Test Dataframe columns are not compliant\")\n",
    "    \n",
    "## Predict df structure\n",
    "if not valid_df(predict_df):\n",
    "    raise ValueError(\"Predict Dataframe columns are not compliant\")\n",
    "    \n",
    "def save_parquet(data, file_path, index=None):\n",
    "    data = data[['ts', 'id', 'y']]\n",
    "    mapping = {c: str for c in data.columns if data[c].dtype == object}\n",
    "    data.astype(mapping).to_parquet(file_path, index=index)\n",
    "    return file_path\n",
    "\n",
    "# replace df below with dataframe with test and prediction outputs\n",
    "predict_ts_path = save_parquet(predict_df_dc_final, predict_ts_path, False)\n",
    "test_ts_path = save_parquet(test_df, test_ts_path, False)\n",
    "val_ts_path = save_parquet(val_df, validate_ts_path, False)"
   ]
  }
 ],
 "metadata": {
  "kernelspec": {
   "display_name": "Python 3 (ipykernel)",
   "language": "python",
   "name": "python3"
  },
  "language_info": {
   "codemirror_mode": {
    "name": "ipython",
    "version": 3
   },
   "file_extension": ".py",
   "mimetype": "text/x-python",
   "name": "python",
   "nbconvert_exporter": "python",
   "pygments_lexer": "ipython3",
   "version": "3.9.13"
  },
  "papermill": {
   "default_parameters": {},
   "duration": 22.226817,
   "end_time": "2022-08-25T04:58:30.977522",
   "environment_variables": {},
   "exception": true,
   "input_path": "/srv/stemly/data/7/model/16/1661403479559/ML_Forecast_offtake.ipynb",
   "output_path": "/srv/stemly/data/7/model/16/1661403479559/ML_Forecast_offtake.ipynb",
   "parameters": {
    "attr_path": "/srv/stemly/data/7/index/3/attributes/attributes.csv",
    "committed_files": [
     "/srv/stemly/data/7/index/3/timeseries/993/commit/ts.0/13.1661315396541.parquet"
    ],
    "index_path": "/srv/stemly/data/7/index/3/index/index.csv",
    "job_id": "6bf40e7f-aced-40f7-86fe-f49f8d23b343",
    "job_name": "custom",
    "job_triggered_at": "2022-08-25 04:58:00",
    "job_triggered_by": "Mallikarjuna Reddy Padigapati",
    "job_user_id": "3",
    "model": "custom",
    "model_file_id": "32",
    "model_resolution": null,
    "predict_ts_path": "/srv/stemly/data/7/index/3/timeseries/1434/staged/model/16/ts.predict.latest.parquet",
    "project_offset": 1,
    "project_periods": 18,
    "project_resolution": "MS",
    "redis_url": "redis://127.0.0.1:6300",
    "reference_resolution": "MS",
    "resource_id": "16",
    "resource_type": "modelbase",
    "resource_version": 1661403479559,
    "test_ts_path": "/srv/stemly/data/7/index/3/timeseries/1434/staged/model/16/ts.test.latest.parquet",
    "ts_predict_duration": 18,
    "ts_predict_end": "2023-12-01 00:00:00",
    "ts_predict_start": "2022-06-01 00:00:00",
    "ts_test_duration": 1,
    "ts_test_end": "2022-05-01 00:00:00",
    "ts_test_start": "2022-04-01 00:00:00",
    "ts_train_p_end": "2022-06-01 00:00:00",
    "ts_train_start": "2020-07-01 00:00:00",
    "ts_train_t_end": "2022-04-01 00:00:00",
    "ts_train_v_end": "2022-05-01 00:00:00",
    "ts_validate_duration": 1,
    "ts_validate_end": "2022-06-01 00:00:00",
    "ts_validate_start": "2022-05-01 00:00:00",
    "validate_ts_path": "/srv/stemly/data/7/index/3/timeseries/1434/staged/model/16/ts.validate.latest.parquet",
    "workspace_id": "7"
   },
   "start_time": "2022-08-25T04:58:08.750705",
   "version": "2.3.4"
  },
  "toc-autonumbering": false,
  "toc-showcode": false,
  "toc-showmarkdowntxt": false,
  "vscode": {
   "interpreter": {
    "hash": "a523894cd04ff0dafb05036a374de3e6239dd3674a754db7cc9296fbe53d8814"
   }
  }
 },
 "nbformat": 4,
 "nbformat_minor": 5
}
