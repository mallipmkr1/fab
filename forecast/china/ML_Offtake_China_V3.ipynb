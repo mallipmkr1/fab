{
 "cells": [
  {
   "cell_type": "code",
   "execution_count": null,
   "id": "1854b5f5",
   "metadata": {
    "papermill": {
     "duration": 0.046145,
     "end_time": "2022-05-24T09:06:54.986401",
     "exception": false,
     "start_time": "2022-05-24T09:06:54.940256",
     "status": "completed"
    },
    "tags": [
     "injected-parameters"
    ]
   },
   "outputs": [],
   "source": [
    "# Parameters\n",
    "attr_path = \"/srv/stemly/data/7/index/3/attributes/attributes.csv\"\n",
    "index_path = \"/srv/stemly/data/7/index/3/index/index.csv\"\n",
    "committed_files = [\"/srv/stemly/data/7/index/3/timeseries/993/commit/ts.0/13.1661315396541.parquet\",\n",
    "                   \"/srv/stemly/data/7/index/3/timeseries/993/commit/ts.0/13.1662444054358.parquet\",\n",
    "                   \"/srv/stemly/data/7/index/3/timeseries/993/commit/ts.0/13.1662553683649.parquet\"]\n",
    "predict_ts_path = \"/srv/stemly/data/7/index/3/timeseries/1434/staged/model/16/ts.predict.latest.parquet\"\n",
    "test_ts_path = \"/srv/stemly/data/7/index/3/timeseries/1434/staged/model/16/ts.test.latest.parquet\"\n",
    "validate_ts_path = \"/srv/stemly/data/7/index/3/timeseries/1434/staged/model/16/ts.validate.latest.parquet\"\n",
    "model = \"custom\"\n",
    "model_file_id = \"32\"\n",
    "model_resolution = None\n",
    "reference_resolution = \"MS\"\n",
    "project_offset = 1\n",
    "project_periods = 18\n",
    "project_resolution = \"MS\"\n",
    "ts_train_start = \"2020-07-01 00:00:00\"\n",
    "ts_train_v_end = \"2022-05-01 00:00:00\"\n",
    "ts_train_t_end = \"2022-04-01 00:00:00\"\n",
    "ts_train_p_end = \"2022-06-01 00:00:00\"\n",
    "ts_test_start = \"2022-04-01 00:00:00\"\n",
    "ts_test_end = \"2022-05-01 00:00:00\"\n",
    "ts_test_duration = 1\n",
    "ts_validate_start = \"2022-05-01 00:00:00\"\n",
    "ts_validate_end = \"2022-06-01 00:00:00\"\n",
    "ts_validate_duration = 1\n",
    "ts_predict_start = \"2022-06-01 00:00:00\"\n",
    "ts_predict_end = \"2023-12-01 00:00:00\"\n",
    "ts_predict_duration = 18\n",
    "redis_url = \"redis://127.0.0.1:6300\"\n",
    "job_id = \"6bf40e7f-aced-40f7-86fe-f49f8d23b343\"\n",
    "job_user_id = \"3\"\n",
    "resource_id = \"16\"\n",
    "resource_version = 1661403479559\n",
    "resource_type = \"modelbase\"\n",
    "workspace_id = \"7\"\n",
    "job_name = \"custom\"\n",
    "job_triggered_at = \"2022-08-25 04:58:00\"\n",
    "job_triggered_by = \"Mallikarjuna Reddy Padigapati\"\n"
   ]
  },
  {
   "cell_type": "markdown",
   "id": "c8b821f5-1a2d-4fc1-a758-95d01341f079",
   "metadata": {},
   "source": [
    "price_file_paths = [\"_input_data/price_df.parquet\"]"
   ]
  },
  {
   "cell_type": "code",
   "execution_count": null,
   "id": "3ee320a8-2c0b-4062-bd47-9084ee41248f",
   "metadata": {
    "papermill": {
     "duration": 2.312232,
     "end_time": "2022-05-24T09:06:57.322841",
     "exception": false,
     "start_time": "2022-05-24T09:06:55.010609",
     "status": "completed"
    },
    "tags": []
   },
   "outputs": [],
   "source": [
    "import numpy as np\n",
    "import pandas as pd\n",
    "import re\n",
    "import matplotlib.pyplot as plt\n",
    "\n",
    "from pg_features import get_features,get_events\n",
    "from pg_model import NAIFCModel\n",
    "from utils import get_dates, calc_metrics, install_old_pandas, upgrade_pandas\n",
    "\n",
    "import seaborn as sns\n",
    "from datetime import timedelta\n",
    "import os\n",
    "import write_data_table\n",
    "from sklearn.preprocessing import LabelEncoder\n",
    "from statsmodels.tsa.seasonal import STL\n",
    "from statsmodels.tsa.arima.model import ARIMA\n",
    "from statsmodels.tsa.exponential_smoothing.ets import ETSModel\n",
    "from statsmodels.tsa.forecasting.stl import STLForecast\n",
    "\n",
    "from sklearn.ensemble import RandomForestRegressor\n",
    "from sklearn.linear_model import LinearRegression\n",
    "\n",
    "pd.set_option('display.max_row', 500)\n",
    "pd.set_option('display.max_columns', 500)\n",
    "pd.set_option('display.width', 1000)\n",
    "pd.set_option('display.max_colwidth', None)"
   ]
  },
  {
   "cell_type": "code",
   "execution_count": null,
   "id": "1c375377-58f9-4b81-b706-da4303aeb600",
   "metadata": {},
   "outputs": [],
   "source": [
    "workspace = 'w' + workspace_id\n",
    "verbose = True"
   ]
  },
  {
   "cell_type": "code",
   "execution_count": null,
   "id": "97bfe8d9-a978-4c52-88dc-fa96aa0b85f2",
   "metadata": {
    "papermill": {
     "duration": 0.033554,
     "end_time": "2022-05-24T09:06:57.379631",
     "exception": false,
     "start_time": "2022-05-24T09:06:57.346077",
     "status": "completed"
    },
    "tags": []
   },
   "outputs": [],
   "source": [
    "main_group_index = ['sku', 'customer', 'warehouse']\n",
    "mat_group = 'sku'\n",
    "freq = \"MS\"\n",
    "load_data_from_local = False\n",
    "export_data = True"
   ]
  },
  {
   "cell_type": "code",
   "execution_count": null,
   "id": "bdb33c44-43b3-408a-adc2-05c778669789",
   "metadata": {
    "papermill": {
     "duration": 0.032894,
     "end_time": "2022-05-24T09:06:57.436678",
     "exception": false,
     "start_time": "2022-05-24T09:06:57.403784",
     "status": "completed"
    },
    "tags": []
   },
   "outputs": [],
   "source": [
    "price_index = 1103"
   ]
  },
  {
   "cell_type": "code",
   "execution_count": null,
   "id": "d86c54d6-378f-46ef-a645-ccda19767c23",
   "metadata": {
    "papermill": {
     "duration": 0.041425,
     "end_time": "2022-05-24T09:06:57.501943",
     "exception": false,
     "start_time": "2022-05-24T09:06:57.460518",
     "status": "completed"
    },
    "tags": []
   },
   "outputs": [],
   "source": [
    "pd.set_option('display.max_row', 500)\n",
    "pd.set_option('display.max_columns', 500)\n",
    "pd.set_option('display.width', 1000)\n",
    "pd.set_option('display.max_colwidth', None)"
   ]
  },
  {
   "cell_type": "code",
   "execution_count": null,
   "id": "a188e26c-5de2-4973-9b40-64e1b8a15541",
   "metadata": {
    "papermill": {
     "duration": 0.031047,
     "end_time": "2022-05-24T09:06:57.556862",
     "exception": false,
     "start_time": "2022-05-24T09:06:57.525815",
     "status": "completed"
    },
    "tags": []
   },
   "outputs": [],
   "source": [
    "if load_data_from_local :\n",
    "    price_var = 'price'\n",
    "    volume_var = 'dc_offtake'\n",
    "    main_group_index = ['sku', 'customer', 'warehouse']\n",
    "    mat_group = 'sku'\n",
    "else :\n",
    "    price_var = 'y'\n",
    "    volume_var = 'y'\n",
    "    main_group_index = ['id']\n",
    "    mat_group = 'sku'"
   ]
  },
  {
   "cell_type": "code",
   "execution_count": null,
   "id": "32dd26e2-e9d3-430a-8996-d087cd47d9f9",
   "metadata": {
    "papermill": {
     "duration": 0.034445,
     "end_time": "2022-05-24T09:06:57.615625",
     "exception": false,
     "start_time": "2022-05-24T09:06:57.581180",
     "status": "completed"
    },
    "tags": []
   },
   "outputs": [],
   "source": [
    "joining_keys = [\"ts\"] + main_group_index\n",
    "joining_keys"
   ]
  },
  {
   "cell_type": "markdown",
   "id": "fd2d852b-fbe5-4b3b-8777-6fc9c18fc4ed",
   "metadata": {
    "papermill": {
     "duration": 0.025239,
     "end_time": "2022-05-24T09:06:57.665491",
     "exception": false,
     "start_time": "2022-05-24T09:06:57.640252",
     "status": "completed"
    },
    "tags": []
   },
   "source": [
    "## Helper"
   ]
  },
  {
   "cell_type": "code",
   "execution_count": null,
   "id": "f1fb5f0b-279a-4e22-acde-1242968e15e2",
   "metadata": {
    "papermill": {
     "duration": 0.035258,
     "end_time": "2022-05-24T09:06:57.724706",
     "exception": false,
     "start_time": "2022-05-24T09:06:57.689448",
     "status": "completed"
    },
    "tags": []
   },
   "outputs": [],
   "source": [
    "def get_results(predict_df, all_dates):\n",
    "    results = pd.DataFrame()\n",
    "    for _id in predict_df.id.unique():\n",
    "        ts = predict_df.loc[(predict_df[\"id\"] == _id)].reset_index(\n",
    "            drop=True)\n",
    "        test = ts.loc[ts.ts.isin(all_dates[\"test\"])].copy()\n",
    "\n",
    "        metrics = calc_metrics(test.y, test.yhat)\n",
    "        metrics.update({\n",
    "            \"id\": _id,\n",
    "            \"test_start\": all_dates[\"test\"][0],\n",
    "            \"test_end\": all_dates[\"test\"][-1],\n",
    "            \"total_actual\": test.y.sum(),\n",
    "            \"total_forecast\": test.yhat.sum(),\n",
    "        })\n",
    "        results = results.append(metrics, ignore_index=True, sort=False)\n",
    "\n",
    "    main_cols = [\"id\", \"test_start\", \"test_end\", \"total_actual\", \"total_forecast\"]\n",
    "    results = results[main_cols + list(results.drop(columns=main_cols).columns)].copy()\n",
    "    results[\"mad\"] = np.abs(results[\"total_actual\"] - results[\"total_forecast\"])\n",
    "    results[\"model\"] = predict_df.model[0]\n",
    "\n",
    "    return results"
   ]
  },
  {
   "cell_type": "markdown",
   "id": "bcbffb26-4afb-4567-87a1-c3e885a05f0d",
   "metadata": {
    "papermill": {
     "duration": 0.024579,
     "end_time": "2022-05-24T09:06:57.774160",
     "exception": false,
     "start_time": "2022-05-24T09:06:57.749581",
     "status": "completed"
    },
    "tags": []
   },
   "source": [
    "## Dates"
   ]
  },
  {
   "cell_type": "markdown",
   "id": "84d41b5c-8310-4629-8ba1-0a7e057f449e",
   "metadata": {
    "papermill": {
     "duration": 0.025144,
     "end_time": "2022-05-24T09:06:57.823590",
     "exception": false,
     "start_time": "2022-05-24T09:06:57.798446",
     "status": "completed"
    },
    "tags": []
   },
   "source": [
    "## Load data"
   ]
  },
  {
   "cell_type": "code",
   "execution_count": null,
   "id": "d7f2153d-9eb7-42c5-b1ed-2edaf651aacb",
   "metadata": {},
   "outputs": [],
   "source": [
    "price_index = 1103"
   ]
  },
  {
   "cell_type": "code",
   "execution_count": null,
   "id": "473fd216-6768-47a6-af27-b6a8022618e2",
   "metadata": {
    "papermill": {
     "duration": 0.08793,
     "end_time": "2022-05-24T09:06:57.935423",
     "exception": false,
     "start_time": "2022-05-24T09:06:57.847493",
     "status": "completed"
    },
    "tags": []
   },
   "outputs": [],
   "source": [
    "if load_data_from_local :\n",
    "    att_df = pd.read_csv(\"../../Cleaned_Input/all_att_data.csv\")\n",
    "    vol_df = pd.read_parquet(\"../../Cleaned_Input/UI_Files/si_monthly_volume.parquet\")\n",
    "    price_df = pd.read_parquet(\"../../Cleaned_Input/UI_Files/si_monthly_price.parquet\")\n",
    "    list_price_df = pd.read_parquet(\"../../Cleaned_Input/UI_Files/si_monthly_price.parquet\")\n",
    "    \n",
    "    vol_df.rename(columns={'date':'ts'},inplace=True)\n",
    "    price_df.rename(columns={'date':'ts'},inplace=True)\n",
    "    list_price_df.rename(columns={'date':'ts'},inplace=True)\n",
    "\n",
    "if not load_data_from_local:\n",
    "    path_index_val = os.listdir(\"/srv/stemly/data/{}/index\".format(workspace_id))[0]\n",
    "    path_index = \"/srv/stemly/data/{}/index\".format(workspace_id) + \"/\" + str(path_index_val)\n",
    "    vol_df = pd.concat([pd.read_parquet(fp) for fp in committed_files])\n",
    "\n",
    "    att_df = pd.read_csv(attr_path)\n",
    "    price_parquet_file_path = path_index + \"/timeseries/\"+ str(price_index)+ \"/commit/ts.0\"\n",
    "    price_file_names =  os.listdir(price_parquet_file_path)\n",
    "    price_file_paths = [price_parquet_file_path+ \"/\" + i for i in price_file_names]\n",
    "    print(price_file_paths)\n",
    "\n",
    "    price_df = pd.concat([pd.read_parquet(fp) for fp in price_file_paths])\n"
   ]
  },
  {
   "cell_type": "code",
   "execution_count": null,
   "id": "52840eee-669d-46dc-9c19-c10e0627a769",
   "metadata": {},
   "outputs": [],
   "source": [
    "sub_group_index = ['ts','sku','customer']\n",
    "att_df_sub = att_df[[ 'sku', 'customer', 'item_type', 'material', 'ph_level2', 'ph_level3',\n",
    "       'sku_description', 'cases','uom']].drop_duplicates()\n"
   ]
  },
  {
   "cell_type": "code",
   "execution_count": null,
   "id": "7f248efe-c673-4bc3-a10c-773a0f29ca3f",
   "metadata": {
    "papermill": {
     "duration": 0.270485,
     "end_time": "2022-05-24T09:06:58.229955",
     "exception": false,
     "start_time": "2022-05-24T09:06:57.959470",
     "status": "completed"
    },
    "tags": []
   },
   "outputs": [],
   "source": [
    "vol_df.rename(columns={volume_var:'y'},inplace=True)\n",
    "price_df.rename(columns={price_var:'price'},inplace=True)\n",
    "\n",
    "price_df = price_df[main_group_index+['price','ts']]\n",
    "vol_df = vol_df[main_group_index+['y','ts']]\n",
    "\n",
    "vol_df = vol_df.groupby(joining_keys).sum().reset_index()\n",
    "price_df = price_df.groupby(joining_keys).mean().reset_index()\n",
    "if not load_data_from_local:\n",
    "    att_df.rename(columns={'__idx':'id'},inplace=True)\n",
    "\n",
    "print(vol_df.shape)\n",
    "df_base = pd.merge(vol_df, price_df, on =joining_keys, how='left')\n",
    "df_base = pd.merge(df_base, att_df,  on = main_group_index, how='left')\n",
    "df_base\n",
    "df_base.loc[df_base['y'] < 0,'y'] = 0\n",
    "print(df_base.shape)\n",
    "\n",
    "df_sub = df_base[['ts','sku','customer','y','price']]\n",
    "df_sub1 = df_sub.groupby(sub_group_index).agg({'y':'sum','price':'mean'}).reset_index()\n",
    "df_sub1 = pd.merge(df_sub1,att_df_sub,on=['sku','customer'],how='left')\n",
    "df_sub1['price'].replace([np.inf,0, -np.inf],np.nan,inplace=True)\n",
    "df_sub1['price'] = df_sub1.groupby(sub_group_index)['price'].transform(lambda x: x.ffill())\n",
    "df_sub1['price'] = df_sub1.groupby(sub_group_index)['price'].transform(lambda x: x.bfill())\n",
    "df_sub1['price'].replace([np.nan],0,inplace=True)\n",
    "\n",
    "df_main = df_sub1.copy()\n",
    "df_sub1.head()\n"
   ]
  },
  {
   "cell_type": "code",
   "execution_count": null,
   "id": "332859c6-5dc7-4bc8-9b25-562d1d26d426",
   "metadata": {},
   "outputs": [],
   "source": [
    "df_main[ (df_main['sku'] == 815517026005) & (df_main['customer'] == 'TMALL') & (df_main['ts'] >= '2022-05-01')\n",
    "        & (df_main['ts'] <= '2022-06-01')]"
   ]
  },
  {
   "cell_type": "code",
   "execution_count": null,
   "id": "a4e3041f-2b38-47dd-80c0-6acf711d5faf",
   "metadata": {},
   "outputs": [],
   "source": []
  },
  {
   "cell_type": "code",
   "execution_count": null,
   "id": "5099a871-d485-4227-8cfe-e2f9064cb454",
   "metadata": {},
   "outputs": [],
   "source": [
    "from dateutil.relativedelta import relativedelta\n",
    "def generate_dates_new(\n",
    "        last_test_date=\"2021-12-27\",\n",
    "        gap_in_days=28,\n",
    "        test_horizon_in_days=28,\n",
    "        version_skip = 28,\n",
    "        fc_horizon_in_days=84,\n",
    "        freq=\"W-Mon\",\n",
    "        n_rounds=2\n",
    "):\n",
    "    ts_test_end = pd.to_datetime(last_test_date) \n",
    "    ts_test_start = ts_test_end - pd.Timedelta(days=test_horizon_in_days - 1)\n",
    "   \n",
    "    ts_predict_start = ts_test_end + pd.Timedelta(days=1)\n",
    "    ts_predict_end = ts_predict_start + pd.Timedelta(days=fc_horizon_in_days-1)\n",
    "\n",
    "   \n",
    "    test_dates = pd.date_range(\n",
    "        start=ts_test_start,\n",
    "        end=ts_test_end,\n",
    "        freq=freq,\n",
    "    )\n",
    "    forecast_dates = pd.date_range(\n",
    "        start=ts_predict_start,\n",
    "        end=ts_predict_end,\n",
    "        freq=freq,\n",
    "    )\n",
    "    a = test_dates[0].month\n",
    "    all_dates_new = {\n",
    "        a: {\n",
    "            \"test\": test_dates,\n",
    "            \"forecast\": forecast_dates,\n",
    "        },\n",
    "    }\n",
    "    for k in range(n_rounds):\n",
    "        a = a - 1\n",
    "        if a == 0:\n",
    "            a = 12\n",
    "        test_dates = pd.date_range(\n",
    "            start=test_dates[0]- relativedelta(months=version_skip),\n",
    "            end=test_dates[-1] - relativedelta(months=version_skip),\n",
    "            freq=freq\n",
    "        )\n",
    "        forecast_dates = pd.date_range(\n",
    "            start=forecast_dates[0]- relativedelta(months=version_skip),\n",
    "            end=forecast_dates[-1] - relativedelta(months=version_skip),\n",
    "            freq=freq\n",
    "        )\n",
    "        all_dates_new.update({\n",
    "            a: {\n",
    "                \"test\": test_dates,\n",
    "                \"forecast\": forecast_dates,\n",
    "            }\n",
    "        })\n",
    "    return all_dates_new\n"
   ]
  },
  {
   "cell_type": "code",
   "execution_count": null,
   "id": "b02d80ab-f1e5-40e4-9caa-abbfd3afb0bd",
   "metadata": {},
   "outputs": [],
   "source": [
    "ts_test_end = \"2022-08-01 00:00:00\"\n",
    "all_dates = generate_dates_new(\n",
    "#     last_test_date=\"2021-12-27\",\n",
    "    last_test_date= ts_test_end,\n",
    "    freq=freq,\n",
    "    gap_in_days=30,\n",
    "    version_skip = 1,\n",
    "    fc_horizon_in_days = 367,\n",
    "    test_horizon_in_days=30,\n",
    "    n_rounds=2\n",
    ")\n",
    "all_dates\n",
    "\n",
    "versions = []\n",
    "for i in all_dates.keys():\n",
    "    versions.append(i)\n",
    "m=list(all_dates.keys())[0]\n",
    "    \n",
    "versions ,all_dates "
   ]
  },
  {
   "cell_type": "code",
   "execution_count": null,
   "id": "f83d72c1-3405-43b5-99aa-680ce405858f",
   "metadata": {},
   "outputs": [],
   "source": [
    "data = df_main.copy()\n",
    "data.head()\n",
    "\n",
    "unique_id = data[['sku','customer']].drop_duplicates().reset_index(drop=True)\n",
    "unique_id['id'] = unique_id.index\n",
    "data = pd.merge(data,unique_id,on=['sku','customer'])\n",
    "data.head()\n",
    "\n",
    "\n",
    "\n",
    "def to_days(x):\n",
    "    switcher = {0: \"Mon\", 1: \"Tue\", 2: \"Wed\", 3: \"Thu\", 4: \"Fri\", 5: \"Sat\", 6: \"Sun\"}\n",
    "    return switcher.get(x)\n",
    "def week_of_month(date_value):\n",
    "    return (date_value.isocalendar()[1] - date_value.replace(day=1).isocalendar()[1] + 1)\n",
    "data[\"month\"] = data[\"ts\"].dt.month \n",
    "data[\"year\"] = data[\"ts\"].dt.year \n",
    "\n",
    "print(data.shape)\n",
    "print(data.columns)\n",
    "id_sales_train = data[data['ts'] <= all_dates[m]['test'][0]]\n",
    "id_sales_train = id_sales_train.groupby('id')['y'].sum().reset_index()\n",
    "id_with_sales_df = id_sales_train[id_sales_train['y'] > 0]\n",
    "id_with_sales = id_with_sales_df.id.unique()\n",
    "data = data[(data['id'].isin(id_with_sales))]\n",
    "print(data.shape)\n",
    "data.head()"
   ]
  },
  {
   "cell_type": "markdown",
   "id": "5d3873e5-2265-4f83-b17f-3dee409b434f",
   "metadata": {
    "papermill": {
     "duration": 0.027206,
     "end_time": "2022-05-24T09:07:09.043490",
     "exception": false,
     "start_time": "2022-05-24T09:07:09.016284",
     "status": "completed"
    },
    "tags": []
   },
   "source": [
    "## Features"
   ]
  },
  {
   "cell_type": "code",
   "execution_count": null,
   "id": "6299b06d-cb89-454d-9ea3-46a417f2df2f",
   "metadata": {
    "papermill": {
     "duration": 0.036111,
     "end_time": "2022-05-24T09:07:09.465431",
     "exception": false,
     "start_time": "2022-05-24T09:07:09.429320",
     "status": "completed"
    },
    "tags": []
   },
   "outputs": [],
   "source": [
    "gap = len(all_dates[m][\"test\"])\n",
    "window = 4"
   ]
  },
  {
   "cell_type": "code",
   "execution_count": null,
   "id": "0bf44229-de2c-4751-940e-6cff237c5061",
   "metadata": {},
   "outputs": [],
   "source": [
    "df = data.copy()\n",
    "df =  df[df['customer'] == 'TMALL']"
   ]
  },
  {
   "cell_type": "code",
   "execution_count": null,
   "id": "ca104940-b4c7-4fd3-b0c8-862db6fdcdff",
   "metadata": {
    "papermill": {
     "duration": 33.892116,
     "end_time": "2022-05-24T09:07:43.386558",
     "exception": false,
     "start_time": "2022-05-24T09:07:09.494442",
     "status": "completed"
    },
    "scrolled": true,
    "tags": []
   },
   "outputs": [],
   "source": [
    "features_dfs = {}\n",
    "for i in all_dates.keys():\n",
    "    features_df = get_features(\n",
    "        df.loc[df.ts <= all_dates[i][\"test\"].max()],\n",
    "        all_dates[i],\n",
    "        fill_with_nan=False,\n",
    "        freq=freq,\n",
    "        gap=gap,\n",
    "        window=window,\n",
    "        n_jobs=-1,\n",
    "        use_val=False,\n",
    "    )\n",
    "    features_dfs.update({i: features_df})\n"
   ]
  },
  {
   "cell_type": "code",
   "execution_count": null,
   "id": "894bf5ae-9d38-48a2-a157-c4f95cb65f66",
   "metadata": {},
   "outputs": [],
   "source": [
    "df.columns"
   ]
  },
  {
   "cell_type": "code",
   "execution_count": null,
   "id": "811e388e-d191-43a4-99f4-eb8aa3e2c26a",
   "metadata": {
    "papermill": {
     "duration": 0.058846,
     "end_time": "2022-05-24T09:07:43.485346",
     "exception": false,
     "start_time": "2022-05-24T09:07:43.426500",
     "status": "completed"
    },
    "tags": []
   },
   "outputs": [],
   "source": [
    "ts_cols = [\"id\", \"ts\", \"y\"]\n",
    "original_features = [\"sku\", \"customer\", 'item_type', 'material', 'ph_level2', 'ph_level3', 'sku_description', 'cases', 'uom', \"price\"]\n",
    "dates_features = [\"year\", \"month\", \"quarter\", \"is_month_start\", \"is_month_end\", \"is_quarter_start\", \"is_quarter_end\", \"is_year_start\", \"is_year_end\"]\n",
    "lag_features = [x for x in features_dfs[m].columns if \"y_lag_\" in x]\n",
    "total_features = [x for x in features_dfs[m].drop(columns=ts_cols+original_features+dates_features+lag_features).columns[-60:]]\n",
    "tsfresh_features = [x for x in features_dfs[m].drop(columns=ts_cols+original_features+dates_features+lag_features+total_features).columns]"
   ]
  },
  {
   "cell_type": "code",
   "execution_count": null,
   "id": "481269b5-3dbc-4374-8caa-5114747b6873",
   "metadata": {},
   "outputs": [],
   "source": [
    "features_dfs[m].to_csv(\"op/sss.csv\")"
   ]
  },
  {
   "cell_type": "markdown",
   "id": "345e8072-f384-403b-829b-d83a14d1433e",
   "metadata": {},
   "source": [
    "## Model 1 Cluster"
   ]
  },
  {
   "cell_type": "code",
   "execution_count": null,
   "id": "290b7e9a-b4d8-43e2-9c25-08004adfe77c",
   "metadata": {},
   "outputs": [],
   "source": [
    "from sklearn.ensemble import RandomForestRegressor\n",
    "from sklearn.preprocessing import LabelEncoder \n",
    "from sklearn.cluster import KMeans\n",
    "from sklearn.decomposition import PCA"
   ]
  },
  {
   "cell_type": "markdown",
   "id": "53c720b0-59b5-4058-a4c8-73b4b0244961",
   "metadata": {},
   "source": [
    "features_dfs[m] = features_dfs[m].drop(axis=1, labels=total_features)\n",
    "features_dfs[m] = features_dfs[m].drop(axis=1, labels=tsfresh_features)"
   ]
  },
  {
   "cell_type": "code",
   "execution_count": null,
   "id": "b5c48cf7-1b74-4f2d-9423-10b18163fb65",
   "metadata": {},
   "outputs": [],
   "source": [
    "lag_features"
   ]
  },
  {
   "cell_type": "code",
   "execution_count": null,
   "id": "1cd221e7-0d43-41d8-a71a-ac659229883d",
   "metadata": {},
   "outputs": [],
   "source": [
    "datas = {}\n",
    "encoders = {}\n",
    "for i in range(len(versions)):\n",
    "    dates = all_dates[versions[i]]\n",
    "    f = features_dfs[versions[i]].copy()\n",
    "    f.drop(lag_features, axis=1, inplace=True)\n",
    "    # get train, test, predict\n",
    "    train = f.loc[f.ts < np.min(dates[\"test\"])].reset_index(drop=True)\n",
    "    test = f.loc[f.ts.isin(dates[\"test\"])].reset_index(drop=True)\n",
    "    predict = f.loc[f.ts.isin(dates[\"forecast\"])].reset_index(drop=True)\n",
    "    all_data = pd.concat([train, test]).reset_index(drop=True)\n",
    "\n",
    "    train[\"y\"] = train[\"y\"].astype(float)\n",
    "    test[\"y\"] = test[\"y\"].astype(float)\n",
    "    predict[\"y\"] = np.nan\n",
    "    all_data[\"y\"] = all_data[\"y\"].astype(float)\n",
    "    \n",
    "    x_train, y_train = train.drop(columns=[\"y\", \"ts\"]), train[\"y\"]\n",
    "    x_test, y_test = test.drop(columns=[\"y\", \"ts\"]), test[\"y\"]\n",
    "    x_predict, y_predict = predict.drop(columns=[\"y\", \"ts\"]), predict[\"y\"]\n",
    "    x_all, y_all = all_data.drop(columns=[\"y\", \"ts\"]), all_data[\"y\"]\n",
    "\n",
    "    for c in x_train.select_dtypes(include=[\"number\", \"bool_\"]).columns:\n",
    "        x_train[c] = np.nan_to_num(x_train[c], nan=-9999, posinf=-9999, neginf=-9999)\n",
    "        x_test[c] = np.nan_to_num(x_test[c], nan=-9999, posinf=-9999, neginf=-9999)\n",
    "        x_predict[c] = np.nan_to_num(x_predict[c], nan=-9999, posinf=-9999, neginf=-9999)\n",
    "        x_all[c] = np.nan_to_num(x_all[c], nan=-9999, posinf=-9999, neginf=-9999)\n",
    "\n",
    "    \n",
    "    enc_cols = x_train.select_dtypes(exclude=\"number\").columns.to_list()\n",
    "    for col in enc_cols:\n",
    "        enc = LabelEncoder()\n",
    "        enc.fit(f[col])\n",
    "        encoders.update({(versions[i], col): enc})\n",
    "        x_train[col] = enc.transform(x_train[col])\n",
    "        x_test[col] = enc.transform(x_test[col])\n",
    "        x_predict[col] = enc.transform(x_predict[col])\n",
    "        x_all[col] = enc.transform(x_all[col])\n",
    "    print(\"forecast version {}\".format(versions[i]))\n",
    "    print(train.ts.min(), train.ts.max(), train.shape)\n",
    "    print(test.ts.min(), test.ts.max(), test.shape)\n",
    "    print(predict.ts.min(), predict.ts.max(), predict.shape)\n",
    "    print()\n",
    "    datas.update({\n",
    "        versions[i] : {\n",
    "            \"all\": all_data,\n",
    "            \"train\": train,\n",
    "            \"test\": test,\n",
    "            \"predict\": predict,\n",
    "            \"x_train\": x_train,\n",
    "            \"y_train\": y_train,\n",
    "            \"x_test\": x_test,\n",
    "            \"y_test\": y_test,\n",
    "            \"x_predict\": x_predict,\n",
    "            \"y_predict\": y_predict,\n",
    "            \"x_all\": x_all,\n",
    "            \"y_all\": y_all\n",
    "        }\n",
    "    })"
   ]
  },
  {
   "cell_type": "code",
   "execution_count": null,
   "id": "444d83db-ddbb-4b36-8c33-fd52d5898277",
   "metadata": {
    "scrolled": true,
    "tags": []
   },
   "outputs": [],
   "source": [
    "datas[versions[0]]['train']"
   ]
  },
  {
   "cell_type": "code",
   "execution_count": null,
   "id": "fa198438-6f97-4409-bb2a-45397675fac4",
   "metadata": {},
   "outputs": [],
   "source": [
    "datas"
   ]
  },
  {
   "cell_type": "code",
   "execution_count": null,
   "id": "846f02c0-6c16-4a7e-b7b3-54a1b913f1d6",
   "metadata": {},
   "outputs": [],
   "source": [
    "encoders"
   ]
  },
  {
   "cell_type": "code",
   "execution_count": null,
   "id": "c4480055-e1c3-44c5-be2e-767c4ff98420",
   "metadata": {
    "scrolled": true,
    "tags": []
   },
   "outputs": [],
   "source": [
    "models = {}\n",
    "clusters = {}\n",
    "group_var = \"customer\"\n",
    "model_name = \"Model per customer\"\n",
    "n_clusters = [1]\n",
    "drop_cols = [\"year\", \"basic_material\", \"material_description\", \"is_month_start\", \"is_month_end\", \"is_quarter_start\", \"is_quarter_end\", \"is_year_start\", \"is_year_end\"]\n",
    "# drop_cols = drop_cols + tsfresh_features\n",
    "\n",
    "for i in range(len(versions)):\n",
    "    _x_train = datas[versions[i]][\"x_train\"].copy()\n",
    "    _y_train = datas[versions[i]][\"y_train\"].copy()\n",
    " \n",
    "   \n",
    "    if (group_var != \"ALL\"):\n",
    "        groups = datas[versions[i]][\"x_train\"][group_var].unique()\n",
    "    else:\n",
    "        groups = [\"ALL\"]\n",
    "        \n",
    "    _model = {}\n",
    "    if(groups[0] != \"ALL\"):\n",
    "        for this_group in groups:\n",
    "            print(versions[i], this_group)\n",
    "            __x_train = _x_train.loc[_x_train[group_var] == this_group].reset_index(drop=True)\n",
    "            __y_train = _y_train.loc[_x_train[group_var] == this_group].reset_index(drop=True)\n",
    "\n",
    "            model = RandomForestRegressor(\n",
    "                n_estimators=1000,\n",
    "                criterion=\"mse\",\n",
    "                max_features=\"sqrt\",\n",
    "                random_state=0,\n",
    "                max_samples=0.9,\n",
    "                n_jobs=-1,  \n",
    "                verbose=0,\n",
    "            ) \n",
    "            if len(drop_cols) == 0:\n",
    "                model.fit(__x_train, __y_train)\n",
    "            else:\n",
    "                model.fit(__x_train.drop(columns=drop_cols, errors=\"ignore\"), __y_train)\n",
    "\n",
    "            _model.update({this_group: model})\n",
    "    else:\n",
    "        _model = RandomForestRegressor(\n",
    "            n_estimators=1000,\n",
    "            criterion=\"mse\",\n",
    "            max_features=\"sqrt\",\n",
    "            random_state=0,\n",
    "            max_samples=0.9,\n",
    "            n_jobs=-1,  \n",
    "            verbose=0,\n",
    "        ) \n",
    "        if len(drop_cols) == 0:\n",
    "            _model.fit(_x_train, _y_train)\n",
    "        else:\n",
    "            _model.fit(_x_train.drop(columns=drop_cols, errors=\"ignore\"), _y_train)\n",
    "\n",
    "        clust_model = None\n",
    "        labels = None\n",
    "        _model.update({\"ALL\": model})\n",
    "    \n",
    "    x_train = _x_train.drop(columns=drop_cols, errors=\"ignore\") \n",
    "    for sn in _model.keys():\n",
    "        fea_imp = pd.DataFrame({\"fea\": x_train.columns.to_list(), \"imp\": _model[sn].feature_importances_})\n",
    "        fea_imp.sort_values(by=\"imp\", inplace=True, ascending=False)\n",
    "        fea_imp = fea_imp.head(20)\n",
    "        plt.figure(figsize=(5, 7))\n",
    "        sns.barplot(data=fea_imp, x=\"imp\", y=\"fea\")\n",
    "        plt.title(\" site_id: {}\".format( sn))\n",
    "        plt.show()\n",
    "    models.update({versions[i]: _model})\n",
    "    \n",
    "    \n"
   ]
  },
  {
   "cell_type": "code",
   "execution_count": null,
   "id": "7c72311b-7fbf-4ca6-8b39-1e45526a343b",
   "metadata": {},
   "outputs": [],
   "source": [
    "\n",
    "\n",
    "predict_df = []\n",
    "for i in range(len(versions)):\n",
    "    \n",
    "    x_train = datas[versions[i]][\"x_train\"]\n",
    "    x_test = datas[versions[i]][\"x_test\"]\n",
    "    x_predict = datas[versions[i]][\"x_predict\"]\n",
    "    yhat_train = np.zeros(x_train.shape[0])\n",
    "    yhat_test = np.zeros(x_test.shape[0])\n",
    "    yhat_predict = np.zeros(x_predict.shape[0])\n",
    "    \n",
    "    _model = models[versions[i]]\n",
    "    if (group_var != \"ALL\"):      \n",
    "        for sn in _model.keys():\n",
    "            model = _model[sn]\n",
    "            yhat_train = model.predict(x_train.loc[x_train[group_var]==sn].drop(columns=drop_cols,errors= 'ignore'))\n",
    "            yhat_test = model.predict(x_test.loc[x_test[group_var]==sn].drop(columns=drop_cols,errors= 'ignore'))\n",
    "            yhat_predict = model.predict(x_predict.loc[x_predict[group_var]==sn].drop(columns=drop_cols,errors= 'ignore'))\n",
    "\n",
    "            sn2 = encoders[versions[i],group_var].inverse_transform([sn])[0]\n",
    "            a = pd.concat([\n",
    "                datas[versions[i]][\"train\"].loc[datas[versions[i]][\"train\"][group_var]==sn2], \n",
    "                datas[versions[i]][\"test\"].loc[datas[versions[i]][\"test\"][group_var]==sn2],\n",
    "                datas[versions[i]][\"predict\"].loc[datas[versions[i]][\"predict\"][group_var]==sn2]\n",
    "            ]).reset_index(drop=True)\n",
    "            a[\"yhat\"] = np.concatenate((yhat_train,yhat_test, yhat_predict))\n",
    "            a[\"yhat\"] = np.clip(np.round(a[\"yhat\"]), 0, None)\n",
    "            a[\"model\"] = model_name\n",
    "            a[\"version\"] = versions[i]\n",
    "            predict_df.append(a)\n",
    "    else:\n",
    "        model = _model['ALL']\n",
    "        yhat_train = model.predict(x_train.drop(columns=drop_cols,errors= 'ignore'))\n",
    "        yhat_test = model.predict(x_test.drop(columns=drop_cols,errors= 'ignore'))\n",
    "        yhat_predict = model.predict(x_predict.drop(columns=drop_cols,errors= 'ignore'))\n",
    "\n",
    "        sn2 = encoders[group_var].inverse_transform([sn])[0]\n",
    "        a = pd.concat([\n",
    "            datas[versions[i]][\"train\"], \n",
    "            datas[versions[i]][\"test\"],\n",
    "            datas[versions[i]][\"predict\"]\n",
    "        ]).reset_index(drop=True)\n",
    "        a[\"yhat\"] = np.concatenate((yhat_train,yhat_test, yhat_predict))\n",
    "        a[\"yhat\"] = np.clip(np.round(a[\"yhat\"]), 0, None)\n",
    "        a[\"model\"] = model_name\n",
    "        a[\"version\"] = versions[i]\n",
    "        predict_df.append(a)\n",
    "predict_df = pd.concat(predict_df).reset_index(drop=True)  \n",
    "        "
   ]
  },
  {
   "cell_type": "code",
   "execution_count": null,
   "id": "f7a74748-acff-4c01-8f5f-0d2f474bca72",
   "metadata": {},
   "outputs": [],
   "source": [
    "for i in range(len(versions)):\n",
    "    a = predict_df.loc[predict_df.version == versions[i]]\n",
    "    dates = all_dates[versions[i]]\n",
    "\n",
    "    # monthly\n",
    "    ts = a.set_index(\"ts\").resample(\"MS\").sum().reset_index()\n",
    "    train = ts.loc[ts.ts < dates[\"test\"][0]]\n",
    "    test = ts.loc[(ts.ts < dates[\"forecast\"][0]) & (ts.ts >= dates[\"test\"][0])]\n",
    "    predict = ts.loc[ts.ts >= dates[\"forecast\"][0]]\n",
    "    \n",
    "    print(train.ts.unique())\n",
    "    print(test.ts.unique())\n",
    "    print(predict.ts.unique())\n",
    "    \n",
    "    _max = ts[[\"y\", \"yhat\"]].max().max()\n",
    "\n",
    "    plt.figure(figsize=(15,5))\n",
    "    plt.plot(ts.ts, ts.y, label=\"actual\")\n",
    "    plt.plot(train.ts, train.yhat, label=\"train\")\n",
    "\n",
    "    if(test.shape[0] ==1):\n",
    "        plt.plot(test.ts,  test.yhat, marker=\"o\", markersize=10, markeredgecolor=\"green\", markerfacecolor=\"green\", label=\"test\")\n",
    "    else:\n",
    "        plt.plot(test.ts, test.yhat, label=\"test\")\n",
    "    \n",
    "    plt.plot(test.ts, test.yhat, label=\"test\")\n",
    "    plt.plot(predict.ts, predict.yhat, label=\"forecast\")\n",
    "    plt.xlim([ts.ts.min(), ts.ts.max()])\n",
    "    plt.ylabel(\"Amount\")\n",
    "    plt.title(\"Version: {}\".format(versions[i]))\n",
    "    plt.legend()\n",
    "    plt.show()"
   ]
  },
  {
   "cell_type": "code",
   "execution_count": null,
   "id": "300d88fc-3494-4a61-90d4-fc6ae638819f",
   "metadata": {},
   "outputs": [],
   "source": [
    "events = get_events()\n",
    "events['festival'] = events['festival'].astype('int64')\n",
    "events['promotion'] = events['promotion'].astype('int64')\n",
    "events['promotion_specific_date'] = events['promotion_specific_date'].astype('int64')"
   ]
  },
  {
   "cell_type": "code",
   "execution_count": null,
   "id": "775e2011-f7da-4482-a21e-16782d596fd8",
   "metadata": {},
   "outputs": [],
   "source": [
    "versions[i]"
   ]
  },
  {
   "cell_type": "code",
   "execution_count": null,
   "id": "288893ee-77c7-439c-8169-35c94e21976f",
   "metadata": {},
   "outputs": [],
   "source": [
    "predict_df.id.unique()"
   ]
  },
  {
   "cell_type": "code",
   "execution_count": null,
   "id": "6a72fd42-e3c3-4994-9e23-a678605f30ee",
   "metadata": {},
   "outputs": [],
   "source": [
    "results = pd.DataFrame()\n",
    "for i in range(len(versions)):\n",
    "    for _id in predict_df.id.unique():\n",
    "        ts = predict_df.loc[(predict_df[\"id\"] == _id) & (predict_df[\"version\"] == versions[i])  ].reset_index(drop=True)\n",
    "        test = ts.loc[ ts.ts.isin( all_dates[versions[i]][\"test\"]) ].copy()\n",
    "        \n",
    "        metrics = calc_metrics(test.y, test.yhat)\n",
    "        metrics.update({\n",
    "            \"id\": _id,\n",
    "            \"version\" : versions[i],\n",
    "            \"sku\": ts[\"sku\"][0],\n",
    "            \"customer\": ts[\"customer\"][0],\n",
    "            \"test_start\": all_dates[versions[i]][\"test\"][0],\n",
    "            \"test_end\": all_dates[versions[i]][\"test\"][-1],\n",
    "            \"total_actual\": test.y.sum(),\n",
    "            \"total_forecast\": test.yhat.sum(),\n",
    "        })\n",
    "        results = results.append(metrics, ignore_index=True, sort=False)\n",
    "\n",
    "main_cols = [\"id\", \"sku\", \"customer\", \"version\", \"test_start\", \"test_end\", \"total_actual\", \"total_forecast\"]\n",
    "results = results[main_cols + list(results.drop(columns=main_cols).columns)].copy()\n",
    "results[\"sp1\"] = results[\"total_actual\"] / results[\"total_forecast\"]\n",
    "results[\"sp1\"] = np.nan_to_num(results[\"sp1\"], nan=1, posinf=0, neginf=0)\n",
    "results[\"model\"] = predict_df.model[0]\n",
    "\n",
    "results.sort_values(by=\"id\").reset_index(drop=True).set_index([\"model\", \"id\"])\n",
    "results.groupby(\"customer\").mean()\n",
    "results.groupby(\"customer\").median()\n",
    "\n",
    "for i in range(len(versions)): \n",
    "    this_results = results[results['version'] == versions[i]]\n",
    "    plt.figure(figsize=(15,5))\n",
    "    plt.ylim(0,3)\n",
    "    sns.boxplot(data=this_results, y=\"sp1\", x=\"customer\")\n",
    "    plt.show()\n",
    "\n",
    "    "
   ]
  },
  {
   "cell_type": "code",
   "execution_count": null,
   "id": "2b0f1abf-6ea4-468e-a488-c14188496fcd",
   "metadata": {},
   "outputs": [],
   "source": [
    "_id=9\n",
    "i=0\n",
    "ts = predict_df.loc[(predict_df[\"id\"] == _id) & (predict_df[\"version\"] == versions[i])  ].reset_index(drop=True)\n",
    "\n",
    "test = ts.loc[ ts.ts.isin( all_dates[versions[i]][\"test\"]) ].copy()\n",
    "\n",
    "metrics = calc_metrics(test.y, test.yhat)\n",
    "metrics.update({\n",
    "    \"id\": _id,\n",
    "    \"version\" : versions[i],\n",
    "    \"sku\": ts[\"sku\"][0],\n",
    "    \"customer\": ts[\"customer\"][0],\n",
    "    \"test_start\": all_dates[versions[i]][\"test\"][0],\n",
    "    \"test_end\": all_dates[versions[i]][\"test\"][-1],\n",
    "    \"total_actual\": test.y.sum(),\n",
    "    \"total_forecast\": test.yhat.sum(),\n",
    "})"
   ]
  },
  {
   "cell_type": "code",
   "execution_count": null,
   "id": "b410e7c1-dcbf-416f-a573-4be1fd4c4691",
   "metadata": {},
   "outputs": [],
   "source": [
    "test"
   ]
  },
  {
   "cell_type": "code",
   "execution_count": null,
   "id": "24cfeb0d-568a-4cbc-a11a-63ca159769a8",
   "metadata": {
    "tags": []
   },
   "outputs": [],
   "source": [
    "for i in range(len(versions)):\n",
    "    this_predict = predict_df.loc[predict_df.version == versions[i]]\n",
    "    this_predict['sku_cust'] = this_predict['sku'].astype(str) + \"_\" + this_predict['customer']\n",
    "    sku_custs =  this_predict.sku_cust.unique()\n",
    "    for this_sku_cust in sku_custs :\n",
    "        this_ts = this_predict[this_predict['sku_cust'] == this_sku_cust]\n",
    "        sku_desc = this_ts.sku_description.unique()[0]\n",
    "        ts = this_ts.fillna(0).groupby(\"ts\").sum().reset_index()\n",
    "        train = ts.loc[ts.ts < all_dates[versions[i]][\"test\"][0]]\n",
    "        test = ts.loc[ts.ts.isin(all_dates[versions[i]][\"test\"])]\n",
    "        forecasts = ts.loc[ts.ts.isin(all_dates[versions[i]][\"forecast\"])]\n",
    "\n",
    "        _max = ts[[\"y\", \"yhat\"]].max().max()\n",
    "\n",
    "        plt.figure(figsize=(15,5))\n",
    "        plt.plot(ts.ts, ts.y, label=\"actual\")\n",
    "\n",
    "        plt.plot(train.ts, train.yhat, label=\"train\")\n",
    "\n",
    "        if(test.shape[0] ==1):\n",
    "            plt.plot(test.ts,  test.yhat, marker=\"o\", markersize=10, markeredgecolor=\"green\", markerfacecolor=\"green\", label=\"test\")\n",
    "        else:\n",
    "            plt.plot(test.ts, test.yhat, label=\"test\")\n",
    "\n",
    "\n",
    "        plt.plot(forecasts.ts, forecasts.yhat, label=\"forecast\")\n",
    "        for j in range(len(events)):\n",
    "            plt.plot([events.ds[j], events.ds[j]], [0, _max], \"k-.\")\n",
    "            if (events.ds[j] > ts.ts.min()) and (events.ds[j] < ts.ts.max()):\n",
    "                plt.text(events.ds[j], _max*1.2, events.holiday[j], rotation=90)\n",
    "        plt.xlim([ts.ts.min(), ts.ts.max()])\n",
    "       # plt.ylim([0, predict_df.yhat.max()])\n",
    "        plt.ylabel(\"Overall sales \")\n",
    "        plt.title(sku_desc + \"_\" + this_sku_cust + \"_ version :\" + str(versions[i]))\n",
    "        plt.legend()\n",
    "        plt.show()"
   ]
  },
  {
   "cell_type": "code",
   "execution_count": null,
   "id": "97ff78bb-9710-4303-884f-783ac968f4bf",
   "metadata": {},
   "outputs": [],
   "source": [
    "results[ (results['sku'] == 815517026272)]"
   ]
  },
  {
   "cell_type": "code",
   "execution_count": null,
   "id": "466394fe-d687-49dc-ac26-e67997d54554",
   "metadata": {
    "scrolled": true,
    "tags": []
   },
   "outputs": [],
   "source": [
    "results = pd.DataFrame()\n",
    "for i in range(len(versions)):\n",
    "    this_version = versions[i]\n",
    "    this_ts = predict_df.loc[(predict_df[\"version\"] == this_version) ].reset_index(drop=True)\n",
    "    for _id in this_ts.id.unique():\n",
    "        ts = this_ts.loc[(this_ts[\"id\"] == _id) ].reset_index(drop=True)\n",
    "        test = ts.loc[ts.ts.isin(all_dates[versions[i]][\"test\"]) | ts.ts.isin(all_dates[versions[i]][\"val\"])].copy()\n",
    "\n",
    "        metrics = calc_metrics(test.y, test.yhat)\n",
    "        metrics.update({\n",
    "            \"version\":this_version,\n",
    "            \"id\": _id,\n",
    "            \"sku\": ts[\"sku\"][0],\n",
    "            \"customer\": ts[\"customer\"][0],\n",
    "            \"test_start\": all_dates[versions[i]][\"val\"][0],\n",
    "            \"test_end\": all_dates[versions[i]][\"test\"][-1],\n",
    "            \"total_actual\": test.y.sum(),\n",
    "            \"total_forecast\": test.yhat.sum(),\n",
    "        })\n",
    "        results = results.append(metrics, ignore_index=True, sort=False)\n",
    "\n",
    "main_cols = [\"version\", \"id\", \"sku\", \"customer\", \"test_start\", \"test_end\", \"total_actual\", \"total_forecast\"]\n",
    "results = results[main_cols + list(results.drop(columns=main_cols).columns)].copy()\n",
    "results[\"sp1\"] = results[\"total_actual\"] / results[\"total_forecast\"]\n",
    "results[\"sp1\"] = np.nan_to_num(results[\"sp1\"], nan=1, posinf=0, neginf=0)\n",
    "results[\"model\"] = predict_df.model[0]\n",
    "results\n"
   ]
  },
  {
   "cell_type": "code",
   "execution_count": null,
   "id": "a7d43636-b1ec-4b09-830b-6e6854abd24b",
   "metadata": {},
   "outputs": [],
   "source": [
    "results_att = results.copy()\n",
    "results_att.drop(columns={'id'},inplace=True)\n",
    "print(results_att.shape)\n",
    "print(att_df.columns)\n",
    "att_df1 = att_df[['cases', 'customer', 'item_type', 'material', 'ph_level2', 'ph_level3',\n",
    "       'sku', 'sku_description', 'uom']].drop_duplicates()\n",
    "print(results_att.shape)\n",
    "results_att = pd.merge(results_att,att_df1,on=['sku','customer'])\n",
    "print(results_att.shape)\n",
    "results_att.head()"
   ]
  },
  {
   "cell_type": "code",
   "execution_count": null,
   "id": "49210904-bda5-439b-b684-622f1a9f764e",
   "metadata": {},
   "outputs": [],
   "source": [
    "results_att[ (results_att['version'] == 8) & results_att"
   ]
  },
  {
   "cell_type": "code",
   "execution_count": null,
   "id": "02f80d93-28db-4725-853a-71feda6acdcf",
   "metadata": {},
   "outputs": [],
   "source": []
  },
  {
   "cell_type": "code",
   "execution_count": null,
   "id": "d51e1cf0-d904-4d4d-908f-d14d2582c421",
   "metadata": {},
   "outputs": [],
   "source": [
    "att_df1[att_df1['sku'] == 815517026005]"
   ]
  },
  {
   "cell_type": "code",
   "execution_count": null,
   "id": "5e8eaba0-fbc7-4e7f-ae45-417d1d74cbc3",
   "metadata": {},
   "outputs": [],
   "source": [
    "\n",
    "\n",
    "ts = predict_df.copy()\n",
    "test_res = ts.loc[ts.ts.isin(all_dates[versions[i]][\"val\"]) | ts.ts.isin(all_dates[versions[i]][\"test\"])].copy().reset_index(drop=True)\n",
    "main_cols = [\"version\", \"id\", \"sku\", \"customer\", \"ts\", \"y\", \"yhat\"]\n",
    "test_res.rename(columns={'y':'total_actual','yhat':'total_forecast'},inplace=True)\n",
    "test_res = test_res[[\"version\", \"id\", \"ts\", \"sku\", \"customer\",\"total_actual\", \"total_forecast\"]]\n",
    "test_res[\"sp1\"] = test_res[\"total_actual\"] / test_res[\"total_forecast\"]\n",
    "test_res[\"sp1\"] = np.nan_to_num(test_res[\"sp1\"], nan=1, posinf=0, neginf=0)\n",
    "print(test_res.shape)\n",
    "test_res = pd.merge(test_res,att_df1,on=['sku','customer'])\n",
    "print(test_res.shape)\n",
    "test_res.head()"
   ]
  },
  {
   "cell_type": "code",
   "execution_count": null,
   "id": "7b21336e-4bc0-469a-9702-4d8f1ceaf44f",
   "metadata": {},
   "outputs": [],
   "source": [
    "att_main = pd.read_excel('Attribute_and_data_points.xlsx', sheet_name='Attributes_China')\n",
    "att_main.rename(columns={'SKU Description':'sku_description','Level2':'ph_level2','sku type':'item_type','units':'uom'},inplace=True)\n",
    "att_main['ph_level3'] = 'FAB'\n",
    "att_main = att_main[['sku','shortname']]\n",
    "att_main                "
   ]
  },
  {
   "cell_type": "code",
   "execution_count": null,
   "id": "645c7a57-435f-4dab-a200-cbaa21a772b7",
   "metadata": {},
   "outputs": [],
   "source": [
    "results_att = pd.merge(results_att,att_main,on='sku')\n",
    "test_res = pd.merge(test_res,att_main,on='sku')\n",
    "test_res['sp1'] = test_res['sp1'].round(2)\n",
    "results_att['sp1'] = results_att['sp1'].round(2)"
   ]
  },
  {
   "cell_type": "code",
   "execution_count": null,
   "id": "04192ac1-8571-4cdd-bfd8-8aa87d9d32ab",
   "metadata": {},
   "outputs": [],
   "source": [
    "import write_data_table\n",
    "write_data_table.send_data(results_att,'sp1_china','w7')\n",
    "write_data_table.send_data(test_res,'sp1_detail_china','w7')\n"
   ]
  },
  {
   "cell_type": "code",
   "execution_count": null,
   "id": "7cf56326-c83f-451c-8087-5a8e75a66dc7",
   "metadata": {
    "scrolled": true,
    "tags": []
   },
   "outputs": [],
   "source": [
    "for i in range(len(versions)):\n",
    "    this_predict = predict_df.loc[predict_df.version == versions[i]]\n",
    "    this_predict['sku_cust'] = this_predict['sku'].astype(str) + \"_\" + this_predict['customer']\n",
    "    sku_custs =  this_predict.sku_cust.unique()\n",
    "    for this_sku_cust in sku_custs :\n",
    "        this_ts = this_predict[this_predict['sku_cust'] == this_sku_cust]\n",
    "        sku_desc = this_ts.sku_description.unique()[0]\n",
    "        ts = this_ts.fillna(0).groupby(\"ts\").sum().reset_index()\n",
    "        train = ts.loc[ts.ts < all_dates[versions[i]][\"val\"][0]]\n",
    "        val = ts.loc[ts.ts.isin(all_dates[versions[i]][\"val\"])]\n",
    "        test = ts.loc[ts.ts.isin(all_dates[versions[i]][\"test\"])]\n",
    "        forecasts = ts.loc[ts.ts.isin(all_dates[versions[i]][\"forecast\"])]\n",
    "\n",
    "        _max = ts[[\"y\", \"yhat\"]].max().max()\n",
    "\n",
    "        plt.figure(figsize=(15,5))\n",
    "        plt.plot(ts.ts, ts.y, label=\"actual\")\n",
    "\n",
    "        plt.plot(train.ts, train.yhat, label=\"train\")\n",
    "\n",
    "\n",
    "        if(val.shape[0] ==1):\n",
    "            plt.plot(val.ts,  val.yhat, marker=\"o\", markersize=10, markeredgecolor=\"green\", markerfacecolor=\"green\", label=\"val\")\n",
    "        else:\n",
    "            plt.plot(val.ts, val.yhat, label=\"val\")\n",
    "\n",
    "        if(test.shape[0] ==1):\n",
    "            plt.plot(test.ts,  test.yhat, marker=\"o\", markersize=10, markeredgecolor=\"green\", markerfacecolor=\"green\", label=\"test\")\n",
    "        else:\n",
    "            plt.plot(test.ts, test.yhat, label=\"test\")\n",
    "\n",
    "\n",
    "        plt.plot(forecasts.ts, forecasts.yhat, label=\"forecast\")\n",
    "        for j in range(len(events)):\n",
    "            plt.plot([events.ds[j], events.ds[j]], [0, _max], \"k-.\")\n",
    "            if (events.ds[j] > ts.ts.min()) and (events.ds[j] < ts.ts.max()):\n",
    "                plt.text(events.ds[j], _max*1.2, events.holiday[j], rotation=90)\n",
    "        plt.xlim([ts.ts.min(), ts.ts.max()])\n",
    "       # plt.ylim([0, predict_df.yhat.max()])\n",
    "        plt.ylabel(\"Overall sales \")\n",
    "        plt.title(sku_desc + \"_\" + this_sku_cust)\n",
    "        plt.legend()\n",
    "        plt.show()"
   ]
  },
  {
   "cell_type": "code",
   "execution_count": null,
   "id": "17a5a4e1-a39d-43a4-ae18-e9fa77e97de2",
   "metadata": {
    "scrolled": true,
    "tags": []
   },
   "outputs": [],
   "source": [
    "for i in range(len(versions)):\n",
    "    this_predict = predict_df.loc[predict_df.version == versions[i]]\n",
    "    skus =  this_predict.sku.unique()\n",
    "    for this_sku in skus :\n",
    "        this_ts = this_predict[this_predict['sku'] == this_sku]\n",
    "        sku_desc = this_ts.sku_description.unique()[0]\n",
    "        ts = this_ts.fillna(0).groupby(\"ts\").sum().reset_index()\n",
    "        train = ts.loc[ts.ts < all_dates[versions[i]][\"val\"][0]]\n",
    "        val = ts.loc[ts.ts.isin(all_dates[versions[i]][\"val\"])]\n",
    "        test = ts.loc[ts.ts.isin(all_dates[versions[i]][\"test\"])]\n",
    "        forecasts = ts.loc[ts.ts.isin(all_dates[versions[i]][\"forecast\"])]\n",
    "\n",
    "        _max = ts[[\"y\", \"yhat\"]].max().max()\n",
    "\n",
    "        plt.figure(figsize=(15,5))\n",
    "        plt.plot(ts.ts, ts.y, label=\"actual\")\n",
    "\n",
    "        plt.plot(train.ts, train.yhat, label=\"train\")\n",
    "\n",
    "\n",
    "        if(val.shape[0] ==1):\n",
    "            plt.plot(val.ts,  val.yhat, marker=\"o\", markersize=10, markeredgecolor=\"green\", markerfacecolor=\"green\", label=\"val\")\n",
    "        else:\n",
    "            plt.plot(val.ts, val.yhat, label=\"val\")\n",
    "\n",
    "        if(test.shape[0] ==1):\n",
    "            plt.plot(test.ts,  test.yhat, marker=\"o\", markersize=10, markeredgecolor=\"green\", markerfacecolor=\"green\", label=\"test\")\n",
    "        else:\n",
    "            plt.plot(test.ts, test.yhat, label=\"test\")\n",
    "\n",
    "\n",
    "        plt.plot(forecasts.ts, forecasts.yhat, label=\"forecast\")\n",
    "        for j in range(len(events)):\n",
    "            plt.plot([events.ds[j], events.ds[j]], [0, _max], \"k-.\")\n",
    "            if (events.ds[j] > ts.ts.min()) and (events.ds[j] < ts.ts.max()):\n",
    "                plt.text(events.ds[j], _max*1.2, events.holiday[j], rotation=90)\n",
    "        plt.xlim([ts.ts.min(), ts.ts.max()])\n",
    "       # plt.ylim([0, predict_df.yhat.max()])\n",
    "        plt.ylabel(\"Overall sales \")\n",
    "        plt.title(sku_desc)\n",
    "        plt.legend()\n",
    "        plt.show()"
   ]
  },
  {
   "cell_type": "code",
   "execution_count": null,
   "id": "cd913442-2423-42be-ad98-2bbe3e03c4b1",
   "metadata": {},
   "outputs": [],
   "source": [
    "dc_offtake = pd.read_csv(\"offtake_china.csv\")\n",
    "print(dc_offtake.shape)\n",
    "dc_offtake = dc_offtake[['sku','customer','warehouse','offtake_percent_dc']].drop_duplicates()\n",
    "print(dc_offtake.shape)\n",
    "dc_offtake.head()"
   ]
  },
  {
   "cell_type": "code",
   "execution_count": null,
   "id": "b4563bca-fb90-4fdc-883c-c68b39b6c943",
   "metadata": {},
   "outputs": [],
   "source": [
    "dc_offtake[dc_offtake['sku'] == 815517025992]"
   ]
  },
  {
   "cell_type": "code",
   "execution_count": null,
   "id": "1cbbe268-7583-4896-b390-385cbf2a6c27",
   "metadata": {},
   "outputs": [],
   "source": []
  },
  {
   "cell_type": "code",
   "execution_count": null,
   "id": "7e1dfd6c-6088-4361-8f61-17c52707c8a3",
   "metadata": {},
   "outputs": [],
   "source": [
    "predict_df_dc = predict_df[['ts','sku','customer', 'yhat', 'y']]\n",
    "print(predict_df_dc.shape)\n",
    "predict_df_dc = pd.merge(predict_df_dc,dc_offtake,on=['sku','customer'],how='left')\n",
    "print(predict_df_dc.shape)\n",
    "predict_df_dc['yhat_dc'] = predict_df_dc['yhat']*predict_df_dc['offtake_percent_dc']/100\n",
    "predict_df_dc['yhat_dc'] = predict_df_dc['yhat_dc'].astype('int64')\n",
    "predict_df_dc['y_dc'] = predict_df_dc['y']*predict_df_dc['offtake_percent_dc']/100\n",
    "predict_df_dc['y_dc'].fillna(0,inplace=True)\n",
    "predict_df_dc['y_dc'] = predict_df_dc['y_dc'].astype('int64')\n",
    "predict_df_dc"
   ]
  },
  {
   "cell_type": "code",
   "execution_count": null,
   "id": "84327289-5c65-499f-b9c5-f466d626e06f",
   "metadata": {},
   "outputs": [],
   "source": [
    "att_df_main = att_df[['id','sku','customer','warehouse']]\n",
    "predict_df_dc_final = pd.merge(predict_df_dc,att_df_main,on=['sku','customer','warehouse'],how='left')\n",
    "predict_df_dc_final.head()"
   ]
  },
  {
   "cell_type": "code",
   "execution_count": null,
   "id": "daa0ad93-e6fb-4f5d-966a-562337f23422",
   "metadata": {},
   "outputs": [],
   "source": [
    "replenishment_op = predict_df_dc_final.copy()\n",
    "replenishment_op.rename(columns={'y_dc':'demand'},inplace=True)\n",
    "replenishment_op.drop(columns={'offtake_percent_dc','id'},inplace=True)\n",
    "replenishment_op[\"ts\"] = pd.to_datetime(replenishment_op[\"ts\"])\n",
    "replenishment_op['type'] = 'Actuals'\n",
    "replenishment_op.loc[replenishment_op['ts'].isin(all_dates[versions[0]]['forecast']),'type'] = 'Forecast'\n",
    "replenishment_op = replenishment_op[['ts','sku','customer','warehouse','demand','yhat_dc']]\n",
    "replenishment_op.loc[replenishment_op['ts'].isin(all_dates[versions[0]]['forecast']),'demand'] = replenishment_op.loc[replenishment_op['ts'].isin(all_dates[versions[0]]['forecast']),'yhat_dc'] \n",
    "replenishment_op.drop(columns={'yhat_dc'},inplace=True)\n",
    "replenishment_op.head()"
   ]
  },
  {
   "cell_type": "code",
   "execution_count": null,
   "id": "7464f87c-2250-43b0-92c2-ea92aa0ed3dc",
   "metadata": {},
   "outputs": [],
   "source": [
    "replenishment_op.to_csv(\"actuals_forecast_china.csv\")"
   ]
  },
  {
   "cell_type": "code",
   "execution_count": null,
   "id": "bcd38779-e24b-48be-b54c-d22c5fb943da",
   "metadata": {
    "papermill": {
     "duration": 0.139897,
     "end_time": "2022-05-24T09:10:23.773364",
     "exception": false,
     "start_time": "2022-05-24T09:10:23.633467",
     "status": "completed"
    },
    "tags": []
   },
   "outputs": [],
   "source": [
    "predict_df[\"ts\"] = predict_df[\"ts\"].astype(\"datetime64[ns]\")\n",
    "predict_df[\"id\"] = predict_df[\"id\"].astype(\"uint64\")\n",
    "predict_df[\"y\"] = predict_df[\"y\"].astype(\"float64\")\n",
    "\n",
    "val_df = predict_df.loc[predict_df.ts.isin(all_dates[m]['test'][-2:-1])].reset_index(drop=True)\n",
    "test_df = predict_df.loc[predict_df.ts.isin(all_dates[m]['test'][-1:])].reset_index(drop=True)\n",
    "predict_df = predict_df.loc[predict_df.ts.isin(all_dates[m]['forecast'])].reset_index(drop=True)\n",
    "val_df = val_df[[\"ts\", \"id\", \"yhat\"]].copy()\n",
    "val_df.rename(columns={\"yhat\": \"y\"}, inplace=True)\n",
    "predict_df = predict_df[[\"ts\", \"id\", \"yhat\"]].copy()\n",
    "predict_df.rename(columns={\"yhat\": \"y\"}, inplace=True)\n",
    "test_df = test_df[[\"ts\", \"id\", \"yhat\"]].copy()\n",
    "test_df.rename(columns={\"yhat\": \"y\"}, inplace=True)\n",
    "\n",
    "valid_df = lambda df : all([x in df.columns for x in ['ts', 'id', 'y']])\n"
   ]
  },
  {
   "cell_type": "code",
   "execution_count": null,
   "id": "945667c9-af06-4faf-9479-7059b012efd6",
   "metadata": {
    "papermill": {
     "duration": 0.133166,
     "end_time": "2022-05-24T09:10:24.007386",
     "exception": false,
     "start_time": "2022-05-24T09:10:23.874220",
     "status": "completed"
    },
    "tags": []
   },
   "outputs": [],
   "source": [
    "\n",
    "## Validate df structure\n",
    "if not valid_df(val_df):\n",
    "    raise ValueError(\"Validate Dataframe columns are not compliant\")\n",
    "    \n",
    "## Test df structure\n",
    "if not valid_df(test_df):\n",
    "    raise ValueError(\"Test Dataframe columns are not compliant\")\n",
    "    \n",
    "## Predict df structure\n",
    "if not valid_df(predict_df):\n",
    "    raise ValueError(\"Predict Dataframe columns are not compliant\")\n",
    "    \n",
    "def save_parquet(data, file_path, index=None):\n",
    "    data = data[['ts', 'id', 'y']]\n",
    "    mapping = {c: str for c in data.columns if data[c].dtype == object}\n",
    "    data.astype(mapping).to_parquet(file_path, index=index)\n",
    "    return file_path\n",
    "\n",
    "# replace df below with dataframe with test and prediction outputs\n",
    "predict_ts_path = save_parquet(predict_df, predict_ts_path, False)\n",
    "test_ts_path = save_parquet(val_df, test_ts_path, False)\n",
    "validate_ts_path = save_parquet(test_df, validate_ts_path, False)"
   ]
  },
  {
   "cell_type": "code",
   "execution_count": null,
   "id": "ade7b258-9761-4d92-b40e-d9b9f4483d42",
   "metadata": {
    "papermill": {
     "duration": 0.100903,
     "end_time": "2022-05-24T09:10:24.209637",
     "exception": false,
     "start_time": "2022-05-24T09:10:24.108734",
     "status": "completed"
    },
    "tags": []
   },
   "outputs": [],
   "source": []
  }
 ],
 "metadata": {
  "kernelspec": {
   "display_name": "Python 3 (ipykernel)",
   "language": "python",
   "name": "python3"
  },
  "language_info": {
   "codemirror_mode": {
    "name": "ipython",
    "version": 3
   },
   "file_extension": ".py",
   "mimetype": "text/x-python",
   "name": "python",
   "nbconvert_exporter": "python",
   "pygments_lexer": "ipython3",
   "version": "3.9.7"
  },
  "papermill": {
   "default_parameters": {},
   "duration": 211.765598,
   "end_time": "2022-05-24T09:10:25.324525",
   "environment_variables": {},
   "exception": null,
   "input_path": "/srv/stemly/data/5/model/85/1653383204851/si_others_promo_UI.ipynb",
   "output_path": "/srv/stemly/data/5/model/85/1653383204851/si_others_promo_UI.ipynb",
   "parameters": {
    "attr_path": "/srv/stemly/data/5/index/4/attributes/attributes.csv",
    "committed_files": [
     "/srv/stemly/data/5/index/4/timeseries/2527/commit/ts.0/95.1653213108967.parquet"
    ],
    "index_path": "/srv/stemly/data/5/index/4/index/index.csv",
    "job_id": "8e3d22d3-3a9b-46df-b554-bc3ee7c3ca59",
    "job_name": "ML Forecast C",
    "job_triggered_at": "2022-05-24 09:06:45",
    "job_triggered_by": "Mallikarjuna Reddy Padigapati",
    "job_user_id": "1",
    "model": "custom",
    "model_file_id": "136",
    "model_resolution": null,
    "predict_ts_path": "/srv/stemly/data/5/index/4/timeseries/2966/staged/model/85/ts.predict.latest.parquet",
    "project_offset": 1,
    "project_periods": 3,
    "project_resolution": "MS",
    "redis_url": "redis://127.0.0.1:6300",
    "reference_resolution": "MS",
    "resource_id": "85",
    "resource_type": "modelbase",
    "resource_version": 1653383204851,
    "test_ts_path": "/srv/stemly/data/5/index/4/timeseries/2966/staged/model/85/ts.test.latest.parquet",
    "ts_predict_duration": 3,
    "ts_predict_end": "2022-04-01 00:00:00",
    "ts_predict_start": "2022-01-01 00:00:00",
    "ts_test_duration": 1,
    "ts_test_end": "2021-12-01 00:00:00",
    "ts_test_start": "2021-11-01 00:00:00",
    "ts_train_p_end": "2022-01-01 00:00:00",
    "ts_train_start": "2019-05-01 00:00:00",
    "ts_train_t_end": "2021-11-01 00:00:00",
    "ts_train_v_end": "2021-12-01 00:00:00",
    "ts_validate_duration": 1,
    "ts_validate_end": "2022-01-01 00:00:00",
    "ts_validate_start": "2021-12-01 00:00:00",
    "validate_ts_path": "/srv/stemly/data/5/index/4/timeseries/2966/staged/model/85/ts.validate.latest.parquet",
    "workspace_id": "5"
   },
   "start_time": "2022-05-24T09:06:53.558927",
   "version": "2.3.4"
  },
  "vscode": {
   "interpreter": {
    "hash": "a523894cd04ff0dafb05036a374de3e6239dd3674a754db7cc9296fbe53d8814"
   }
  },
  "widgets": {
   "application/vnd.jupyter.widget-state+json": {
    "state": {
     "0124759041a849df89ddd440b0ee72c2": {
      "model_module": "@jupyter-widgets/base",
      "model_module_version": "1.2.0",
      "model_name": "LayoutModel",
      "state": {
       "_model_module": "@jupyter-widgets/base",
       "_model_module_version": "1.2.0",
       "_model_name": "LayoutModel",
       "_view_count": null,
       "_view_module": "@jupyter-widgets/base",
       "_view_module_version": "1.2.0",
       "_view_name": "LayoutView",
       "align_content": null,
       "align_items": null,
       "align_self": null,
       "border": null,
       "bottom": null,
       "display": null,
       "flex": null,
       "flex_flow": null,
       "grid_area": null,
       "grid_auto_columns": null,
       "grid_auto_flow": null,
       "grid_auto_rows": null,
       "grid_column": null,
       "grid_gap": null,
       "grid_row": null,
       "grid_template_areas": null,
       "grid_template_columns": null,
       "grid_template_rows": null,
       "height": null,
       "justify_content": null,
       "justify_items": null,
       "left": null,
       "margin": null,
       "max_height": null,
       "max_width": null,
       "min_height": null,
       "min_width": null,
       "object_fit": null,
       "object_position": null,
       "order": null,
       "overflow": null,
       "overflow_x": null,
       "overflow_y": null,
       "padding": null,
       "right": null,
       "top": null,
       "visibility": null,
       "width": null
      }
     },
     "029574e736864c649e21359337ecbf06": {
      "model_module": "@jupyter-widgets/controls",
      "model_module_version": "1.5.0",
      "model_name": "HBoxModel",
      "state": {
       "_dom_classes": [],
       "_model_module": "@jupyter-widgets/controls",
       "_model_module_version": "1.5.0",
       "_model_name": "HBoxModel",
       "_view_count": null,
       "_view_module": "@jupyter-widgets/controls",
       "_view_module_version": "1.5.0",
       "_view_name": "HBoxView",
       "box_style": "",
       "children": [
        "IPY_MODEL_d9ce30de701f4cf2937a873b860816b1",
        "IPY_MODEL_240a670e85c2407286a656d36cc9b34e",
        "IPY_MODEL_34bf0b61eb274e68b2d19e79e4bb2097"
       ],
       "layout": "IPY_MODEL_27576e79dea84647a80993de0d8665ef"
      }
     },
     "14b08376cf8a4ac1ba9f0a026a286b89": {
      "model_module": "@jupyter-widgets/controls",
      "model_module_version": "1.5.0",
      "model_name": "ProgressStyleModel",
      "state": {
       "_model_module": "@jupyter-widgets/controls",
       "_model_module_version": "1.5.0",
       "_model_name": "ProgressStyleModel",
       "_view_count": null,
       "_view_module": "@jupyter-widgets/base",
       "_view_module_version": "1.2.0",
       "_view_name": "StyleView",
       "bar_color": null,
       "description_width": ""
      }
     },
     "240a670e85c2407286a656d36cc9b34e": {
      "model_module": "@jupyter-widgets/controls",
      "model_module_version": "1.5.0",
      "model_name": "FloatProgressModel",
      "state": {
       "_dom_classes": [],
       "_model_module": "@jupyter-widgets/controls",
       "_model_module_version": "1.5.0",
       "_model_name": "FloatProgressModel",
       "_view_count": null,
       "_view_module": "@jupyter-widgets/controls",
       "_view_module_version": "1.5.0",
       "_view_name": "ProgressView",
       "bar_style": "success",
       "description": "",
       "description_tooltip": null,
       "layout": "IPY_MODEL_8ff4bfd20bad4a9b83b9b24ceccd5531",
       "max": 1474,
       "min": 0,
       "orientation": "horizontal",
       "style": "IPY_MODEL_3aa43723e09441949c8a984120d63808",
       "value": 1474
      }
     },
     "27576e79dea84647a80993de0d8665ef": {
      "model_module": "@jupyter-widgets/base",
      "model_module_version": "1.2.0",
      "model_name": "LayoutModel",
      "state": {
       "_model_module": "@jupyter-widgets/base",
       "_model_module_version": "1.2.0",
       "_model_name": "LayoutModel",
       "_view_count": null,
       "_view_module": "@jupyter-widgets/base",
       "_view_module_version": "1.2.0",
       "_view_name": "LayoutView",
       "align_content": null,
       "align_items": null,
       "align_self": null,
       "border": null,
       "bottom": null,
       "display": null,
       "flex": null,
       "flex_flow": null,
       "grid_area": null,
       "grid_auto_columns": null,
       "grid_auto_flow": null,
       "grid_auto_rows": null,
       "grid_column": null,
       "grid_gap": null,
       "grid_row": null,
       "grid_template_areas": null,
       "grid_template_columns": null,
       "grid_template_rows": null,
       "height": null,
       "justify_content": null,
       "justify_items": null,
       "left": null,
       "margin": null,
       "max_height": null,
       "max_width": null,
       "min_height": null,
       "min_width": null,
       "object_fit": null,
       "object_position": null,
       "order": null,
       "overflow": null,
       "overflow_x": null,
       "overflow_y": null,
       "padding": null,
       "right": null,
       "top": null,
       "visibility": null,
       "width": null
      }
     },
     "2a9510a4d66e4481bff8bfe14d03ba88": {
      "model_module": "@jupyter-widgets/controls",
      "model_module_version": "1.5.0",
      "model_name": "DescriptionStyleModel",
      "state": {
       "_model_module": "@jupyter-widgets/controls",
       "_model_module_version": "1.5.0",
       "_model_name": "DescriptionStyleModel",
       "_view_count": null,
       "_view_module": "@jupyter-widgets/base",
       "_view_module_version": "1.2.0",
       "_view_name": "StyleView",
       "description_width": ""
      }
     },
     "34bf0b61eb274e68b2d19e79e4bb2097": {
      "model_module": "@jupyter-widgets/controls",
      "model_module_version": "1.5.0",
      "model_name": "HTMLModel",
      "state": {
       "_dom_classes": [],
       "_model_module": "@jupyter-widgets/controls",
       "_model_module_version": "1.5.0",
       "_model_name": "HTMLModel",
       "_view_count": null,
       "_view_module": "@jupyter-widgets/controls",
       "_view_module_version": "1.5.0",
       "_view_name": "HTMLView",
       "description": "",
       "description_tooltip": null,
       "layout": "IPY_MODEL_ab0cf47029f841758fa4db41bd6553ca",
       "placeholder": "​",
       "style": "IPY_MODEL_b7c5fc0305d8450490e82a0183291996",
       "value": " 1474/1474 [00:07&lt;00:00, 205.26it/s]"
      }
     },
     "3aa43723e09441949c8a984120d63808": {
      "model_module": "@jupyter-widgets/controls",
      "model_module_version": "1.5.0",
      "model_name": "ProgressStyleModel",
      "state": {
       "_model_module": "@jupyter-widgets/controls",
       "_model_module_version": "1.5.0",
       "_model_name": "ProgressStyleModel",
       "_view_count": null,
       "_view_module": "@jupyter-widgets/base",
       "_view_module_version": "1.2.0",
       "_view_name": "StyleView",
       "bar_color": null,
       "description_width": ""
      }
     },
     "3ee567a04f9d4776b1c9c05b63b725b3": {
      "model_module": "@jupyter-widgets/controls",
      "model_module_version": "1.5.0",
      "model_name": "FloatProgressModel",
      "state": {
       "_dom_classes": [],
       "_model_module": "@jupyter-widgets/controls",
       "_model_module_version": "1.5.0",
       "_model_name": "FloatProgressModel",
       "_view_count": null,
       "_view_module": "@jupyter-widgets/controls",
       "_view_module_version": "1.5.0",
       "_view_name": "ProgressView",
       "bar_style": "success",
       "description": "",
       "description_tooltip": null,
       "layout": "IPY_MODEL_0124759041a849df89ddd440b0ee72c2",
       "max": 14,
       "min": 0,
       "orientation": "horizontal",
       "style": "IPY_MODEL_14b08376cf8a4ac1ba9f0a026a286b89",
       "value": 14
      }
     },
     "48f1f54d474148099166c8949c87803f": {
      "model_module": "@jupyter-widgets/controls",
      "model_module_version": "1.5.0",
      "model_name": "DescriptionStyleModel",
      "state": {
       "_model_module": "@jupyter-widgets/controls",
       "_model_module_version": "1.5.0",
       "_model_name": "DescriptionStyleModel",
       "_view_count": null,
       "_view_module": "@jupyter-widgets/base",
       "_view_module_version": "1.2.0",
       "_view_name": "StyleView",
       "description_width": ""
      }
     },
     "6ff1a2682e244cb3a1899bbba28b16ef": {
      "model_module": "@jupyter-widgets/controls",
      "model_module_version": "1.5.0",
      "model_name": "HBoxModel",
      "state": {
       "_dom_classes": [],
       "_model_module": "@jupyter-widgets/controls",
       "_model_module_version": "1.5.0",
       "_model_name": "HBoxModel",
       "_view_count": null,
       "_view_module": "@jupyter-widgets/controls",
       "_view_module_version": "1.5.0",
       "_view_name": "HBoxView",
       "box_style": "",
       "children": [
        "IPY_MODEL_86270bbb78344013b1d48d5ab1c17aaa",
        "IPY_MODEL_3ee567a04f9d4776b1c9c05b63b725b3",
        "IPY_MODEL_f8a54049e6324e55bdf43cbb588003e7"
       ],
       "layout": "IPY_MODEL_7bd793d8ac5e4dc0b1e1a1e529bed0a6"
      }
     },
     "7bd793d8ac5e4dc0b1e1a1e529bed0a6": {
      "model_module": "@jupyter-widgets/base",
      "model_module_version": "1.2.0",
      "model_name": "LayoutModel",
      "state": {
       "_model_module": "@jupyter-widgets/base",
       "_model_module_version": "1.2.0",
       "_model_name": "LayoutModel",
       "_view_count": null,
       "_view_module": "@jupyter-widgets/base",
       "_view_module_version": "1.2.0",
       "_view_name": "LayoutView",
       "align_content": null,
       "align_items": null,
       "align_self": null,
       "border": null,
       "bottom": null,
       "display": null,
       "flex": null,
       "flex_flow": null,
       "grid_area": null,
       "grid_auto_columns": null,
       "grid_auto_flow": null,
       "grid_auto_rows": null,
       "grid_column": null,
       "grid_gap": null,
       "grid_row": null,
       "grid_template_areas": null,
       "grid_template_columns": null,
       "grid_template_rows": null,
       "height": null,
       "justify_content": null,
       "justify_items": null,
       "left": null,
       "margin": null,
       "max_height": null,
       "max_width": null,
       "min_height": null,
       "min_width": null,
       "object_fit": null,
       "object_position": null,
       "order": null,
       "overflow": null,
       "overflow_x": null,
       "overflow_y": null,
       "padding": null,
       "right": null,
       "top": null,
       "visibility": null,
       "width": null
      }
     },
     "86270bbb78344013b1d48d5ab1c17aaa": {
      "model_module": "@jupyter-widgets/controls",
      "model_module_version": "1.5.0",
      "model_name": "HTMLModel",
      "state": {
       "_dom_classes": [],
       "_model_module": "@jupyter-widgets/controls",
       "_model_module_version": "1.5.0",
       "_model_name": "HTMLModel",
       "_view_count": null,
       "_view_module": "@jupyter-widgets/controls",
       "_view_module_version": "1.5.0",
       "_view_name": "HTMLView",
       "description": "",
       "description_tooltip": null,
       "layout": "IPY_MODEL_eab248f7e9b341d0bbb416dcc482f820",
       "placeholder": "​",
       "style": "IPY_MODEL_48f1f54d474148099166c8949c87803f",
       "value": "100%"
      }
     },
     "8e6e772cfa5e4dfcb20049e65a56a1aa": {
      "model_module": "@jupyter-widgets/base",
      "model_module_version": "1.2.0",
      "model_name": "LayoutModel",
      "state": {
       "_model_module": "@jupyter-widgets/base",
       "_model_module_version": "1.2.0",
       "_model_name": "LayoutModel",
       "_view_count": null,
       "_view_module": "@jupyter-widgets/base",
       "_view_module_version": "1.2.0",
       "_view_name": "LayoutView",
       "align_content": null,
       "align_items": null,
       "align_self": null,
       "border": null,
       "bottom": null,
       "display": null,
       "flex": null,
       "flex_flow": null,
       "grid_area": null,
       "grid_auto_columns": null,
       "grid_auto_flow": null,
       "grid_auto_rows": null,
       "grid_column": null,
       "grid_gap": null,
       "grid_row": null,
       "grid_template_areas": null,
       "grid_template_columns": null,
       "grid_template_rows": null,
       "height": null,
       "justify_content": null,
       "justify_items": null,
       "left": null,
       "margin": null,
       "max_height": null,
       "max_width": null,
       "min_height": null,
       "min_width": null,
       "object_fit": null,
       "object_position": null,
       "order": null,
       "overflow": null,
       "overflow_x": null,
       "overflow_y": null,
       "padding": null,
       "right": null,
       "top": null,
       "visibility": null,
       "width": null
      }
     },
     "8ff4bfd20bad4a9b83b9b24ceccd5531": {
      "model_module": "@jupyter-widgets/base",
      "model_module_version": "1.2.0",
      "model_name": "LayoutModel",
      "state": {
       "_model_module": "@jupyter-widgets/base",
       "_model_module_version": "1.2.0",
       "_model_name": "LayoutModel",
       "_view_count": null,
       "_view_module": "@jupyter-widgets/base",
       "_view_module_version": "1.2.0",
       "_view_name": "LayoutView",
       "align_content": null,
       "align_items": null,
       "align_self": null,
       "border": null,
       "bottom": null,
       "display": null,
       "flex": null,
       "flex_flow": null,
       "grid_area": null,
       "grid_auto_columns": null,
       "grid_auto_flow": null,
       "grid_auto_rows": null,
       "grid_column": null,
       "grid_gap": null,
       "grid_row": null,
       "grid_template_areas": null,
       "grid_template_columns": null,
       "grid_template_rows": null,
       "height": null,
       "justify_content": null,
       "justify_items": null,
       "left": null,
       "margin": null,
       "max_height": null,
       "max_width": null,
       "min_height": null,
       "min_width": null,
       "object_fit": null,
       "object_position": null,
       "order": null,
       "overflow": null,
       "overflow_x": null,
       "overflow_y": null,
       "padding": null,
       "right": null,
       "top": null,
       "visibility": null,
       "width": null
      }
     },
     "9f2ae3e6da544eb4b7b1bb7bac40b5be": {
      "model_module": "@jupyter-widgets/controls",
      "model_module_version": "1.5.0",
      "model_name": "DescriptionStyleModel",
      "state": {
       "_model_module": "@jupyter-widgets/controls",
       "_model_module_version": "1.5.0",
       "_model_name": "DescriptionStyleModel",
       "_view_count": null,
       "_view_module": "@jupyter-widgets/base",
       "_view_module_version": "1.2.0",
       "_view_name": "StyleView",
       "description_width": ""
      }
     },
     "ab0cf47029f841758fa4db41bd6553ca": {
      "model_module": "@jupyter-widgets/base",
      "model_module_version": "1.2.0",
      "model_name": "LayoutModel",
      "state": {
       "_model_module": "@jupyter-widgets/base",
       "_model_module_version": "1.2.0",
       "_model_name": "LayoutModel",
       "_view_count": null,
       "_view_module": "@jupyter-widgets/base",
       "_view_module_version": "1.2.0",
       "_view_name": "LayoutView",
       "align_content": null,
       "align_items": null,
       "align_self": null,
       "border": null,
       "bottom": null,
       "display": null,
       "flex": null,
       "flex_flow": null,
       "grid_area": null,
       "grid_auto_columns": null,
       "grid_auto_flow": null,
       "grid_auto_rows": null,
       "grid_column": null,
       "grid_gap": null,
       "grid_row": null,
       "grid_template_areas": null,
       "grid_template_columns": null,
       "grid_template_rows": null,
       "height": null,
       "justify_content": null,
       "justify_items": null,
       "left": null,
       "margin": null,
       "max_height": null,
       "max_width": null,
       "min_height": null,
       "min_width": null,
       "object_fit": null,
       "object_position": null,
       "order": null,
       "overflow": null,
       "overflow_x": null,
       "overflow_y": null,
       "padding": null,
       "right": null,
       "top": null,
       "visibility": null,
       "width": null
      }
     },
     "af6ccb57833b4701bd89b532e7c86bd3": {
      "model_module": "@jupyter-widgets/base",
      "model_module_version": "1.2.0",
      "model_name": "LayoutModel",
      "state": {
       "_model_module": "@jupyter-widgets/base",
       "_model_module_version": "1.2.0",
       "_model_name": "LayoutModel",
       "_view_count": null,
       "_view_module": "@jupyter-widgets/base",
       "_view_module_version": "1.2.0",
       "_view_name": "LayoutView",
       "align_content": null,
       "align_items": null,
       "align_self": null,
       "border": null,
       "bottom": null,
       "display": null,
       "flex": null,
       "flex_flow": null,
       "grid_area": null,
       "grid_auto_columns": null,
       "grid_auto_flow": null,
       "grid_auto_rows": null,
       "grid_column": null,
       "grid_gap": null,
       "grid_row": null,
       "grid_template_areas": null,
       "grid_template_columns": null,
       "grid_template_rows": null,
       "height": null,
       "justify_content": null,
       "justify_items": null,
       "left": null,
       "margin": null,
       "max_height": null,
       "max_width": null,
       "min_height": null,
       "min_width": null,
       "object_fit": null,
       "object_position": null,
       "order": null,
       "overflow": null,
       "overflow_x": null,
       "overflow_y": null,
       "padding": null,
       "right": null,
       "top": null,
       "visibility": null,
       "width": null
      }
     },
     "b7c5fc0305d8450490e82a0183291996": {
      "model_module": "@jupyter-widgets/controls",
      "model_module_version": "1.5.0",
      "model_name": "DescriptionStyleModel",
      "state": {
       "_model_module": "@jupyter-widgets/controls",
       "_model_module_version": "1.5.0",
       "_model_name": "DescriptionStyleModel",
       "_view_count": null,
       "_view_module": "@jupyter-widgets/base",
       "_view_module_version": "1.2.0",
       "_view_name": "StyleView",
       "description_width": ""
      }
     },
     "d9ce30de701f4cf2937a873b860816b1": {
      "model_module": "@jupyter-widgets/controls",
      "model_module_version": "1.5.0",
      "model_name": "HTMLModel",
      "state": {
       "_dom_classes": [],
       "_model_module": "@jupyter-widgets/controls",
       "_model_module_version": "1.5.0",
       "_model_name": "HTMLModel",
       "_view_count": null,
       "_view_module": "@jupyter-widgets/controls",
       "_view_module_version": "1.5.0",
       "_view_name": "HTMLView",
       "description": "",
       "description_tooltip": null,
       "layout": "IPY_MODEL_8e6e772cfa5e4dfcb20049e65a56a1aa",
       "placeholder": "​",
       "style": "IPY_MODEL_9f2ae3e6da544eb4b7b1bb7bac40b5be",
       "value": "100%"
      }
     },
     "eab248f7e9b341d0bbb416dcc482f820": {
      "model_module": "@jupyter-widgets/base",
      "model_module_version": "1.2.0",
      "model_name": "LayoutModel",
      "state": {
       "_model_module": "@jupyter-widgets/base",
       "_model_module_version": "1.2.0",
       "_model_name": "LayoutModel",
       "_view_count": null,
       "_view_module": "@jupyter-widgets/base",
       "_view_module_version": "1.2.0",
       "_view_name": "LayoutView",
       "align_content": null,
       "align_items": null,
       "align_self": null,
       "border": null,
       "bottom": null,
       "display": null,
       "flex": null,
       "flex_flow": null,
       "grid_area": null,
       "grid_auto_columns": null,
       "grid_auto_flow": null,
       "grid_auto_rows": null,
       "grid_column": null,
       "grid_gap": null,
       "grid_row": null,
       "grid_template_areas": null,
       "grid_template_columns": null,
       "grid_template_rows": null,
       "height": null,
       "justify_content": null,
       "justify_items": null,
       "left": null,
       "margin": null,
       "max_height": null,
       "max_width": null,
       "min_height": null,
       "min_width": null,
       "object_fit": null,
       "object_position": null,
       "order": null,
       "overflow": null,
       "overflow_x": null,
       "overflow_y": null,
       "padding": null,
       "right": null,
       "top": null,
       "visibility": null,
       "width": null
      }
     },
     "f8a54049e6324e55bdf43cbb588003e7": {
      "model_module": "@jupyter-widgets/controls",
      "model_module_version": "1.5.0",
      "model_name": "HTMLModel",
      "state": {
       "_dom_classes": [],
       "_model_module": "@jupyter-widgets/controls",
       "_model_module_version": "1.5.0",
       "_model_name": "HTMLModel",
       "_view_count": null,
       "_view_module": "@jupyter-widgets/controls",
       "_view_module_version": "1.5.0",
       "_view_name": "HTMLView",
       "description": "",
       "description_tooltip": null,
       "layout": "IPY_MODEL_af6ccb57833b4701bd89b532e7c86bd3",
       "placeholder": "​",
       "style": "IPY_MODEL_2a9510a4d66e4481bff8bfe14d03ba88",
       "value": " 14/14 [00:00&lt;00:00, 45.58it/s]"
      }
     }
    },
    "version_major": 2,
    "version_minor": 0
   }
  }
 },
 "nbformat": 4,
 "nbformat_minor": 5
}
